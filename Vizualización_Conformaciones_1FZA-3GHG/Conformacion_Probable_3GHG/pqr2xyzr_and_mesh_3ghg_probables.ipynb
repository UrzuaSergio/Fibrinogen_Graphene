{
 "cells": [
  {
   "cell_type": "code",
   "execution_count": 5,
   "metadata": {},
   "outputs": [],
   "source": [
    "#Codigos para transformar archivos pqr de proteinas a archivos xyzr. El archivo xyzr es requerido como input \n",
    "#para los diversos malladores, como MSMS o NanoShaper."
   ]
  },
  {
   "cell_type": "code",
   "execution_count": 6,
   "metadata": {},
   "outputs": [],
   "source": [
    "#File: Archivo pqr con informacion de cargas, coordenadas, etc.\n",
    "#File_2:Archivo xyzr del archivo pqr.\n",
    "\n",
    "file=open(\"3ghg_modif_Tilt148-Rot220-h2.pqr\",'r')\n",
    "file_2=open(\"3ghg_modif_Tilt148-Rot220-h2.xyzr\",'w')\n",
    "for line in file:\n",
    "    line_2=line.split()\n",
    "    if line_2[0]==\"ATOM\":\n",
    "        linea = '{0} {1} {2} {3}\\n'.format(line_2[5],line_2[6],line_2[7],line_2[9])\n",
    "        file_2.write(linea)\n",
    "file_2.close()\n",
    "file.close()"
   ]
  },
  {
   "cell_type": "code",
   "execution_count": 7,
   "metadata": {},
   "outputs": [],
   "source": [
    "\n",
    "file=open(\"3ghg_modif_Tilt32-Rot40-h2.pqr\",'r')\n",
    "file_2=open(\"3ghg_modif_Tilt32-Rot40-h2.xyzr\",'w')\n",
    "for line in file:\n",
    "    line_2=line.split()\n",
    "    if line_2[0]==\"ATOM\":\n",
    "        linea = '{0} {1} {2} {3}\\n'.format(line_2[5],line_2[6],line_2[7],line_2[9])\n",
    "        file_2.write(linea)\n",
    "file_2.close()\n",
    "file.close()"
   ]
  },
  {
   "cell_type": "code",
   "execution_count": 11,
   "metadata": {},
   "outputs": [],
   "source": [
    "import numpy\n",
    "import sys\n",
    "import os\n",
    "import glob\n",
    "\n",
    "def Funcion_Meshing(File_config,densidad,xyzr):\n",
    "    os.system('touch '+File_config)\n",
    "    Archivo=open(File_config,'w')\n",
    "    Archivo.write('Grid_scale ='+str(float(densidad))+'\\n')\n",
    "    Archivo.write('Grid_perfil = 90.0'+'\\n')\n",
    "    Archivo.write('XYZR_FileName = '+str(xyzr)+'\\n')\n",
    "    Archivo.write('Build_epsilon_maps = false \\n')\n",
    "    Archivo.write('Build_status_map = false \\n')\n",
    "    Archivo.write('Save_Mesh_MSMS_Format = true \\n')\n",
    "    Archivo.write('Compute_Vertex_Normals = true \\n')\n",
    "    Archivo.write('Surface = ses \\n')  \n",
    "    Archivo.write('Max_ses_patches_per_auxiliary_grid_2d_cell = 1500 \\n') \n",
    "    Archivo.write('Smooth_Mesh = true \\n')\n",
    "    Archivo.write('Skin_Surface_Parameter = 0.45 \\n')\n",
    "    Archivo.write('Cavity_Detection_Filling = false \\n')\n",
    "    Archivo.write('Conditional_Volume_Filling_Value = 11.4 \\n')\n",
    "    Archivo.write('Keep_Water_Shaped_Cavities = false \\n')\n",
    "    Archivo.write('Probe_Radius = 1.4 \\n')\n",
    "    Archivo.write('Accurate_Triangulation = true \\n')\n",
    "    Archivo.write('Triangulation = true \\n')\n",
    "    Archivo.write('Check_duplicated_vertices = true \\n')\n",
    "    Archivo.write('Save_Status_map = false \\n')\n",
    "    Archivo.write('Save_PovRay = false \\n')"
   ]
  },
  {
   "cell_type": "code",
   "execution_count": 14,
   "metadata": {},
   "outputs": [
    {
     "data": {
      "text/plain": [
       "0"
      ]
     },
     "execution_count": 14,
     "metadata": {},
     "output_type": "execute_result"
    }
   ],
   "source": [
    "os.system('mkdir Meshing_Fibrinogeno/')\n",
    "\n",
    "Funcion_Meshing('Meshing_Fibrinogeno/Config_3ghg_d04_1',1.129,'3ghg_modif_Tilt148-Rot220-h2.xyzr')\n",
    "Funcion_Meshing('Meshing_Fibrinogeno/Config_3ghg_d04_2',1.129,'3ghg_modif_Tilt32-Rot40-h2.xyzr')\n",
    "\n",
    "os.system('./NanoShaper Meshing_Fibrinogeno/Config_3ghg_d04_1')\n",
    "os.system('cp triangulatedSurf.face Meshing_Fibrinogeno/3ghg_NanoShaper_d04_Tilt148-Rot220-h2.face')\n",
    "os.system('cp triangulatedSurf.vert Meshing_Fibrinogeno/3ghg_NanoShaper_d04_Tilt148-Rot220-h2.vert')\n",
    "os.system('rm -r  triangulatedSurf.face')\n",
    "os.system('rm -r  triangulatedSurf.vert')\n",
    "\n",
    "os.system('./NanoShaper Meshing_Fibrinogeno/Config_3ghg_d04_2')\n",
    "os.system('cp triangulatedSurf.face Meshing_Fibrinogeno/3ghg_NanoShaper_d04_Tilt32-Rot40-h2.face')\n",
    "os.system('cp triangulatedSurf.vert Meshing_Fibrinogeno/3ghg_NanoShaper_d04_Tilt32-Rot40-h2.vert')\n",
    "os.system('rm -r  triangulatedSurf.face')\n",
    "os.system('rm -r  triangulatedSurf.vert')\n",
    "\n",
    "os.system('rm -r exposed.xyz')\n",
    "os.system('rm -r exposedIndices.txt')\n",
    "os.system('rm -r stderror.txt')\n",
    "os.system('rm -r triangleAreas.txt')\n"
   ]
  },
  {
   "cell_type": "code",
   "execution_count": null,
   "metadata": {},
   "outputs": [],
   "source": []
  }
 ],
 "metadata": {
  "kernelspec": {
   "display_name": "Python 3",
   "language": "python",
   "name": "python3"
  },
  "language_info": {
   "codemirror_mode": {
    "name": "ipython",
    "version": 3
   },
   "file_extension": ".py",
   "mimetype": "text/x-python",
   "name": "python",
   "nbconvert_exporter": "python",
   "pygments_lexer": "ipython3",
   "version": "3.6.5"
  }
 },
 "nbformat": 4,
 "nbformat_minor": 2
}

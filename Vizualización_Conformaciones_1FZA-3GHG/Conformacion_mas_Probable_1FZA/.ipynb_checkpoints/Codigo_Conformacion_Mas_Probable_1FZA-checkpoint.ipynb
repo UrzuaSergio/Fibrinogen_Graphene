{
 "cells": [
  {
   "cell_type": "markdown",
   "metadata": {},
   "source": [
    "## Codigo Post-Proceso: Mallado Conformaciones 1FZA\n",
    "\n",
    "### Orientaciones mas probables de adsorción de 1FZA sobre Surperficie Bidimensional de Grafeno"
   ]
  },
  {
   "cell_type": "markdown",
   "metadata": {},
   "source": [
    "Este codigo realiza las siguientes tareas:"
   ]
  },
  {
   "cell_type": "markdown",
   "metadata": {},
   "source": [
    "> 1. Orientar 1FZA en las conformaciones mas probables que han sido encontradas (pqr y mesh).\n",
    "> 2. Generar archivo xyzr a partir de pqr orientados.\n",
    "> 3. Realizar proceso de mallado con NanoShaper.\n",
    "> 4. Eliminar archivos que no tienen utilidad."
   ]
  },
  {
   "cell_type": "code",
   "execution_count": 1,
   "metadata": {},
   "outputs": [
    {
     "name": "stdout",
     "output_type": "stream",
     "text": [
      "Se ha orientado 1FZA a sus conformaciones mas probables de adsorcion\n"
     ]
    }
   ],
   "source": [
    "import numpy\n",
    "import sys\n",
    "import os\n",
    "import glob\n",
    "\n",
    "os.system('sh Orientar_1FZA.sh')\n",
    "print('Se ha orientado 1FZA a sus conformaciones mas probables de adsorcion')"
   ]
  },
  {
   "cell_type": "code",
   "execution_count": 2,
   "metadata": {},
   "outputs": [
    {
     "name": "stdout",
     "output_type": "stream",
     "text": [
      "Borrados\n"
     ]
    }
   ],
   "source": [
    "os.system('rm -r 1fza_NanoShaper_d04_Tilt104-Rot160-h2.face')\n",
    "os.system('rm -r 1fza_NanoShaper_d04_Tilt104-Rot160-h2.vert')\n",
    "os.system('rm -r 1fza_NanoShaper_d04_Tilt76-Rot340-h2.face')\n",
    "os.system('rm -r 1fza_NanoShaper_d04_Tilt76-Rot340-h2.vert')\n",
    "os.system('rm -r 1fza_NanoShaper_d04_Tilt20-Rot160-h2.face')\n",
    "os.system('rm -r 1fza_NanoShaper_d04_Tilt20-Rot160-h2.vert')\n",
    "\n",
    "print('Borrados')"
   ]
  },
  {
   "cell_type": "code",
   "execution_count": 3,
   "metadata": {},
   "outputs": [
    {
     "name": "stdout",
     "output_type": "stream",
     "text": [
      "Se ha Creado xyzr para Tilt: 104° - Rot: 160°\n",
      "Se ha Creado xyzr para Tilt: 76° - Rot: 340°\n",
      "Se ha Creado xyzr para Tilt: 20° - Rot: 160°\n"
     ]
    }
   ],
   "source": [
    "#File: Archivo pqr con informacion de cargas, coordenadas, etc.\n",
    "#File_2:Archivo xyzr del archivo pqr.\n",
    "\n",
    "file=open(\"1fza_one_modif_Tilt104-Rot160-h2.pqr\",'r')\n",
    "file_2=open(\"1fza_one_modif_Tilt104-Rot160-h2.xyzr\",'w')\n",
    "for line in file:\n",
    "    line_2=line.split()\n",
    "    if line_2[0]==\"ATOM\":\n",
    "        linea = '{0} {1} {2} {3}\\n'.format(line_2[5],line_2[6],line_2[7],line_2[9])\n",
    "        file_2.write(linea)\n",
    "file_2.close()\n",
    "file.close()\n",
    "\n",
    "print('Se ha Creado xyzr para Tilt: 104° - Rot: 160°')\n",
    "\n",
    "file=open(\"1fza_one_modif_Tilt76-Rot340-h2.pqr\",'r')\n",
    "file_2=open(\"1fza_one_modif_Tilt76-Rot340-h2.xyzr\",'w')\n",
    "for line in file:\n",
    "    line_2=line.split()\n",
    "    if line_2[0]==\"ATOM\":\n",
    "        linea = '{0} {1} {2} {3}\\n'.format(line_2[5],line_2[6],line_2[7],line_2[9])\n",
    "        file_2.write(linea)\n",
    "file_2.close()\n",
    "file.close()\n",
    "\n",
    "print('Se ha Creado xyzr para Tilt: 76° - Rot: 340°')\n",
    "\n",
    "file=open(\"1fza_one_modif_Tilt20-Rot160-h2.pqr\",'r')\n",
    "file_2=open(\"1fza_one_modif_Tilt20-Rot160-h2.xyzr\",'w')\n",
    "for line in file:\n",
    "    line_2=line.split()\n",
    "    if line_2[0]==\"ATOM\":\n",
    "        linea = '{0} {1} {2} {3}\\n'.format(line_2[5],line_2[6],line_2[7],line_2[9])\n",
    "        file_2.write(linea)\n",
    "file_2.close()\n",
    "file.close()\n",
    "\n",
    "print('Se ha Creado xyzr para Tilt: 20° - Rot: 160°')"
   ]
  },
  {
   "cell_type": "code",
   "execution_count": 4,
   "metadata": {},
   "outputs": [
    {
     "name": "stdout",
     "output_type": "stream",
     "text": [
      "Borrados pqr\n"
     ]
    }
   ],
   "source": [
    "os.system('rm -r 1fza_one_modif_Tilt20-Rot160-h2.pqr')\n",
    "os.system('rm -r 1fza_one_modif_Tilt104-Rot160-h2.pqr')\n",
    "os.system('rm -r 1fza_one_modif_Tilt76-Rot340-h2.pqr')\n",
    "\n",
    "print('Borrados pqr')"
   ]
  },
  {
   "cell_type": "code",
   "execution_count": 5,
   "metadata": {},
   "outputs": [],
   "source": [
    "def Funcion_Meshing(File_config,densidad,xyzr):\n",
    "    os.system('touch '+File_config)\n",
    "    Archivo=open(File_config,'w')\n",
    "    Archivo.write('Grid_scale ='+str(float(densidad))+'\\n')\n",
    "    Archivo.write('Grid_perfil = 90.0'+'\\n')\n",
    "    Archivo.write('XYZR_FileName = '+str(xyzr)+'\\n')\n",
    "    Archivo.write('Build_epsilon_maps = false \\n')\n",
    "    Archivo.write('Build_status_map = false \\n')\n",
    "    Archivo.write('Save_Mesh_MSMS_Format = true \\n')\n",
    "    Archivo.write('Compute_Vertex_Normals = true \\n')\n",
    "    Archivo.write('Surface = ses \\n')  \n",
    "    Archivo.write('Max_ses_patches_per_auxiliary_grid_2d_cell = 1500 \\n') \n",
    "    Archivo.write('Smooth_Mesh = true \\n')\n",
    "    Archivo.write('Skin_Surface_Parameter = 0.45 \\n')\n",
    "    Archivo.write('Cavity_Detection_Filling = false \\n')\n",
    "    Archivo.write('Conditional_Volume_Filling_Value = 11.4 \\n')\n",
    "    Archivo.write('Keep_Water_Shaped_Cavities = false \\n')\n",
    "    Archivo.write('Probe_Radius = 1.4 \\n')\n",
    "    Archivo.write('Accurate_Triangulation = true \\n')\n",
    "    Archivo.write('Triangulation = true \\n')\n",
    "    Archivo.write('Check_duplicated_vertices = true \\n')\n",
    "    Archivo.write('Save_Status_map = false \\n')\n",
    "    Archivo.write('Save_PovRay = false \\n')"
   ]
  },
  {
   "cell_type": "code",
   "execution_count": 6,
   "metadata": {},
   "outputs": [
    {
     "name": "stdout",
     "output_type": "stream",
     "text": [
      "Se han mallado las conformaciones mas probables de 1FZA\n",
      "Borrados Archivos aux. de Mallas\n",
      "Borrados xyzr\n"
     ]
    }
   ],
   "source": [
    "os.system('mkdir Meshing_Fibrinogeno/')\n",
    "\n",
    "Funcion_Meshing('Meshing_Fibrinogeno/Config_1fza_d04_1',1.129,'1fza_one_modif_Tilt104-Rot160-h2.xyzr')\n",
    "Funcion_Meshing('Meshing_Fibrinogeno/Config_1fza_d04_2',1.129,'1fza_one_modif_Tilt76-Rot340-h2.xyzr')\n",
    "Funcion_Meshing('Meshing_Fibrinogeno/Config_1fza_d04_3',1.129,'1fza_one_modif_Tilt20-Rot160-h2.xyzr')\n",
    "\n",
    "os.system('./NanoShaper Meshing_Fibrinogeno/Config_1fza_d04_1')\n",
    "os.system('cp triangulatedSurf.face Meshing_Fibrinogeno/1fza_NanoShaper_d04_Tilt104-Rot160-h2.face')\n",
    "os.system('cp triangulatedSurf.vert Meshing_Fibrinogeno/1fza_NanoShaper_d04_Tilt104-Rot160-h2.vert')\n",
    "os.system('rm -r  triangulatedSurf.face')\n",
    "os.system('rm -r  triangulatedSurf.vert')\n",
    "\n",
    "os.system('./NanoShaper Meshing_Fibrinogeno/Config_1fza_d04_2')\n",
    "os.system('cp triangulatedSurf.face Meshing_Fibrinogeno/1fza_NanoShaper_d04_Tilt76-Rot340-h2.face')\n",
    "os.system('cp triangulatedSurf.vert Meshing_Fibrinogeno/1fza_NanoShaper_d04_Tilt76-Rot340-h2.vert')\n",
    "os.system('rm -r  triangulatedSurf.face')\n",
    "os.system('rm -r  triangulatedSurf.vert')\n",
    "\n",
    "os.system('./NanoShaper Meshing_Fibrinogeno/Config_1fza_d04_3')\n",
    "os.system('cp triangulatedSurf.face Meshing_Fibrinogeno/1fza_NanoShaper_d04_Tilt20-Rot160-h2.face')\n",
    "os.system('cp triangulatedSurf.vert Meshing_Fibrinogeno/1fza_NanoShaper_d04_Tilt20-Rot160-h2.vert')\n",
    "os.system('rm -r  triangulatedSurf.face')\n",
    "os.system('rm -r  triangulatedSurf.vert')\n",
    "\n",
    "print('Se han mallado las conformaciones mas probables de 1FZA')\n",
    "\n",
    "os.system('rm -r exposed.xyz')\n",
    "os.system('rm -r exposedIndices.txt')\n",
    "os.system('rm -r stderror.txt')\n",
    "os.system('rm -r triangleAreas.txt')\n",
    "print('Borrados Archivos aux. de Mallas')\n",
    "\n",
    "os.system('rm -r 1fza_one_modif_Tilt20-Rot160-h2.xyzr')\n",
    "os.system('rm -r 1fza_one_modif_Tilt104-Rot160-h2.xyzr')\n",
    "os.system('rm -r 1fza_one_modif_Tilt76-Rot340-h2.xyzr')\n",
    "\n",
    "print('Borrados xyzr')\n"
   ]
  },
  {
   "cell_type": "code",
   "execution_count": 7,
   "metadata": {},
   "outputs": [
    {
     "name": "stdout",
     "output_type": "stream",
     "text": [
      "Se borraron Archivos config de NanoShaper\n",
      "se elimino read_data.pyc\n"
     ]
    }
   ],
   "source": [
    "os.system('rm -r Meshing_Fibrinogeno/Config_1fza_d04_1')\n",
    "os.system('rm -r Meshing_Fibrinogeno/Config_1fza_d04_2')\n",
    "os.system('rm -r Meshing_Fibrinogeno/Config_1fza_d04_3')\n",
    "\n",
    "print('Se borraron Archivos config de NanoShaper')\n",
    "\n",
    "os.system('rm -r read_data.pyc')\n",
    "print('se elimino read_data.pyc')"
   ]
  },
  {
   "cell_type": "code",
   "execution_count": 8,
   "metadata": {},
   "outputs": [
    {
     "name": "stdout",
     "output_type": "stream",
     "text": [
      "Borrado Carpeta __pycache__\n"
     ]
    }
   ],
   "source": [
    "os.system('rm -r __pycache__/')\n",
    "print('Borrado Carpeta __pycache__')"
   ]
  },
  {
   "cell_type": "markdown",
   "metadata": {},
   "source": [
    "![Fallo Carga de Imagen](Vizualizacion/1FZA_Tilt104.png \"Tilt: 104° - Rot:160°\")"
   ]
  },
  {
   "cell_type": "markdown",
   "metadata": {},
   "source": [
    "![Fallo Carga de Imagen](Vizualizacion/1FZA_Tilt76.png \"Tilt: 76° - Rot:340°\")"
   ]
  },
  {
   "cell_type": "markdown",
   "metadata": {},
   "source": [
    "![Fallo Carga de Imagen](Vizualizacion/1FZA_Tilt20.png \"Tilt: 20° - Rot:160°\")"
   ]
  },
  {
   "cell_type": "markdown",
   "metadata": {},
   "source": [
    "> **Conformación 1**: $\\alpha_{tilt}=104°$ - $\\alpha_{rot}=160°$ - $E_{int}=-1.15$ $[kcal/mol]$\n",
    ">\n",
    "> **Conformación 2**: $\\alpha_{tilt}=76°$ - $\\alpha_{rot}=340°$ - $E_{int}=-1.11$ $[kcal/mol]$\n",
    ">\n",
    "> **Conformación 3**: $\\alpha_{tilt}=20°$ - $\\alpha_{rot}=160°$ - $E_{int}=-1.01$ $[kcal/mol]$"
   ]
  }
 ],
 "metadata": {
  "kernelspec": {
   "display_name": "Python 3",
   "language": "python",
   "name": "python3"
  },
  "language_info": {
   "codemirror_mode": {
    "name": "ipython",
    "version": 3
   },
   "file_extension": ".py",
   "mimetype": "text/x-python",
   "name": "python",
   "nbconvert_exporter": "python",
   "pygments_lexer": "ipython3",
   "version": "3.6.5"
  }
 },
 "nbformat": 4,
 "nbformat_minor": 2
}

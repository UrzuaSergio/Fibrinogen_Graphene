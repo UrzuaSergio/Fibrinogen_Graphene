{
 "cells": [
  {
   "cell_type": "markdown",
   "metadata": {},
   "source": [
    "# Codigo Pre-procesamiento de Fibrinogeno: Parametrización y Mallado."
   ]
  },
  {
   "cell_type": "markdown",
   "metadata": {},
   "source": [
    "## I. Codigo Modificación PQR parametrización Proteína: Fibrinogeno "
   ]
  },
  {
   "cell_type": "markdown",
   "metadata": {},
   "source": [
    "> **Input**: \n",
    ">    1. `1fza_one.pqr`\n",
    ">    2. `3ghg.pqr`"
   ]
  },
  {
   "cell_type": "markdown",
   "metadata": {},
   "source": [
    "Modificar pqr de 3GHG debido a que archivo original el numero de atomos no se encuentran correlativos. Faltan atomos. PQR original establece que hay 30717 atomos, sin embargo, en el archivo solo hay 30411. Esto es a causa de que pdb2prq no ha podido asignar cargas a los atomos faltantes. Este problema, genera que codigo move_protein.py no logre ejecutar correctamente para orientar la proteina."
   ]
  },
  {
   "cell_type": "code",
   "execution_count": 1,
   "metadata": {},
   "outputs": [],
   "source": [
    "file_o = open('3ghg_modif.pqr','w')\n",
    "file1=open('3ghg.pqr','r')\n",
    "A=0\n",
    "for line in file1:\n",
    "    line_split = line.split()\n",
    "\n",
    "    if line_split[0] == 'ATOM':\n",
    "        A+=1\n",
    "        atm_nu = A\n",
    "        if len(str(atm_nu))==1:\n",
    "            line_add = ' %1d '%(atm_nu)\n",
    "            line_new = line[:9] + line_add + line[12:]\n",
    "            file_o.write(line_new)\n",
    "        if len(str(atm_nu))==2:\n",
    "            line_add = ' %1d '%(atm_nu)\n",
    "            line_new = line[:8] + line_add + line[12:]\n",
    "            file_o.write(line_new)\n",
    "        if len(str(atm_nu))==3:\n",
    "            line_add = ' %1d '%(atm_nu)\n",
    "            line_new = line[:7] + line_add + line[12:]\n",
    "            file_o.write(line_new)\n",
    "        if len(str(atm_nu))==4:\n",
    "            line_add = ' %1d '%(atm_nu)\n",
    "            line_new = line[:6] + line_add + line[12:]\n",
    "            file_o.write(line_new)\n",
    "        if len(str(atm_nu))==5:\n",
    "            line_add = ' %1d '%(atm_nu)\n",
    "            line_new = line[:5] + line_add + line[12:]\n",
    "            file_o.write(line_new)\n",
    "    else:\n",
    "        file_o.write(line)\n",
    "file_o.close()\n",
    "file1.close()\n"
   ]
  },
  {
   "cell_type": "markdown",
   "metadata": {},
   "source": [
    "Modificar pqr de 1FZA debido a que archivo original el numero de atomos no se encuentran correlativos. Faltan atomos. PQR original establece que hay 11177 atomos, sin embargo, en el archivo solo hay 11163. Esto es a causa de que pdb2prq no ha podido asignar cargas a los atomos faltantes. Este problema, genera que codigo move_protein.py no logre ejecutar correctamente para orientar la proteina."
   ]
  },
  {
   "cell_type": "code",
   "execution_count": 2,
   "metadata": {},
   "outputs": [],
   "source": [
    "import numpy\n",
    "file2 = open('1fza_one_modif.pqr','w')\n",
    "file1=open('1fza_one.pqr','r')\n",
    "A=0\n",
    "for line in file1:\n",
    "    line_split = line.split()\n",
    "\n",
    "    if line_split[0] == 'ATOM':\n",
    "        A+=1\n",
    "        atm_nu = A\n",
    "        if len(str(atm_nu))==1:\n",
    "            line_add = ' %1d '%(atm_nu)\n",
    "            line_new = line[:9] + line_add + line[12:]\n",
    "            file2.write(line_new)\n",
    "        if len(str(atm_nu))==2:\n",
    "            line_add = ' %1d '%(atm_nu)\n",
    "            line_new = line[:8] + line_add + line[12:]\n",
    "            file2.write(line_new)\n",
    "        if len(str(atm_nu))==3:\n",
    "            line_add = ' %1d '%(atm_nu)\n",
    "            line_new = line[:7] + line_add + line[12:]\n",
    "            file2.write(line_new)\n",
    "        if len(str(atm_nu))==4:\n",
    "            line_add = ' %1d '%(atm_nu)\n",
    "            line_new = line[:6] + line_add + line[12:]\n",
    "            file2.write(line_new)\n",
    "        if len(str(atm_nu))==5:\n",
    "            line_add = ' %1d '%(atm_nu)\n",
    "            line_new = line[:5] + line_add + line[12:]\n",
    "            file2.write(line_new)\n",
    "    else:\n",
    "        file2.write(line)\n",
    "file2.close()\n",
    "file1.close()\n",
    "\n",
    "\n"
   ]
  },
  {
   "cell_type": "markdown",
   "metadata": {
    "collapsed": true
   },
   "source": [
    "> **Output**: \n",
    ">    1. `1fza_one_modif.pqr`\n",
    ">    2. `3ghg_modif.pqr`"
   ]
  },
  {
   "cell_type": "markdown",
   "metadata": {
    "collapsed": true
   },
   "source": [
    "## II. XYZR para mallador."
   ]
  },
  {
   "cell_type": "markdown",
   "metadata": {},
   "source": [
    "Codigos para transformar archivos pqr de proteinas a archivos xyzr. El archivo xyzr es requerido como input para los diversos malladores, como MSMS o NanoShaper."
   ]
  },
  {
   "cell_type": "code",
   "execution_count": 3,
   "metadata": {},
   "outputs": [],
   "source": [
    "#File: Archivo pqr con informacion de cargas, coordenadas, etc.\n",
    "#File_2:Archivo xyzr del archivo pqr.\n",
    "\n",
    "#1fza: Dominio D del Fibrinogeno\n",
    "\n",
    "file=open(\"1fza_one_modif.pqr\",'r')\n",
    "file_2=open(\"1fza_one_modif.xyzr\",'w')\n",
    "for line in file:\n",
    "    line_2=line.split()\n",
    "    if line_2[0]==\"ATOM\":\n",
    "        linea = '{0} {1} {2} {3}\\n'.format(line_2[5],line_2[6],line_2[7],line_2[9])\n",
    "        file_2.write(linea)\n",
    "file_2.close()\n",
    "file.close()\n",
    "\n",
    "#3ghg: Fibrinogeno\n",
    "\n",
    "file_3=open(\"3ghg_modif.pqr\",'r')\n",
    "file_4=open(\"3ghg_modif.xyzr\",'w')\n",
    "for line in file_3:\n",
    "    line_2=line.split()\n",
    "    if line_2[0]==\"ATOM\":\n",
    "        linea = '{0} {1} {2} {3}\\n'.format(line_2[5],line_2[6],line_2[7],line_2[9])\n",
    "        file_4.write(linea)\n",
    "file_4.close()\n",
    "file_3.close()"
   ]
  },
  {
   "cell_type": "markdown",
   "metadata": {},
   "source": [
    "## III. Elaboración de Malla del Fibrinogeno con el mallador NanoShaper."
   ]
  },
  {
   "cell_type": "code",
   "execution_count": 3,
   "metadata": {},
   "outputs": [],
   "source": [
    "import numpy\n",
    "import sys\n",
    "import os\n",
    "import glob\n",
    "\n",
    "def Funcion_Meshing(File_config,densidad,xyzr):\n",
    "    os.system('touch '+File_config)\n",
    "    Archivo=open(File_config,'w')\n",
    "    Archivo.write('Grid_scale ='+str(float(densidad))+'\\n')\n",
    "    Archivo.write('Grid_perfil = 90.0'+'\\n')\n",
    "    Archivo.write('XYZR_FileName = '+str(xyzr)+'\\n')\n",
    "    Archivo.write('Build_epsilon_maps = false \\n')\n",
    "    Archivo.write('Build_status_map = false \\n')\n",
    "    Archivo.write('Save_Mesh_MSMS_Format = true \\n')\n",
    "    Archivo.write('Compute_Vertex_Normals = true \\n')\n",
    "    Archivo.write('Surface = ses \\n')  \n",
    "    Archivo.write('Max_ses_patches_per_auxiliary_grid_2d_cell = 1500 \\n') \n",
    "    Archivo.write('Smooth_Mesh = true \\n')\n",
    "    Archivo.write('Skin_Surface_Parameter = 0.45 \\n')\n",
    "    Archivo.write('Cavity_Detection_Filling = false \\n')\n",
    "    Archivo.write('Conditional_Volume_Filling_Value = 11.4 \\n')\n",
    "    Archivo.write('Keep_Water_Shaped_Cavities = false \\n')\n",
    "    Archivo.write('Probe_Radius = 1.4 \\n')\n",
    "    Archivo.write('Accurate_Triangulation = true \\n')\n",
    "    Archivo.write('Triangulation = true \\n')\n",
    "    Archivo.write('Check_duplicated_vertices = true \\n')\n",
    "    Archivo.write('Save_Status_map = false \\n')\n",
    "    Archivo.write('Save_PovRay = false \\n')"
   ]
  },
  {
   "cell_type": "markdown",
   "metadata": {},
   "source": [
    "### Mesh 3GHG: Fibrinogeno"
   ]
  },
  {
   "cell_type": "code",
   "execution_count": 4,
   "metadata": {},
   "outputs": [
    {
     "name": "stdout",
     "output_type": "stream",
     "text": [
      "Listo\n",
      "Listo\n",
      "Listo\n",
      "Listo\n",
      "Listo\n"
     ]
    }
   ],
   "source": [
    "os.system('mkdir Meshing_Fibrinogeno/')\n",
    "\n",
    "Funcion_Meshing('Meshing_Fibrinogeno/Config_3ghg_d01',0.55,'3ghg_modif.xyzr')\n",
    "Funcion_Meshing('Meshing_Fibrinogeno/Config_3ghg_d02',0.79,'3ghg_modif.xyzr')\n",
    "Funcion_Meshing('Meshing_Fibrinogeno/Config_3ghg_d04',1.129,'3ghg_modif.xyzr')\n",
    "Funcion_Meshing('Meshing_Fibrinogeno/Config_3ghg_d08',1.61,'3ghg_modif.xyzr')\n",
    "\n",
    "os.system('./NanoShaper Meshing_Fibrinogeno/Config_3ghg_d01')\n",
    "os.system('cp triangulatedSurf.face Meshing_Fibrinogeno/3ghg_NanoShaper_d01.face')\n",
    "os.system('cp triangulatedSurf.vert Meshing_Fibrinogeno/3ghg_NanoShaper_d01.vert')\n",
    "os.system('rm -r  triangulatedSurf.face')\n",
    "os.system('rm -r  triangulatedSurf.vert')\n",
    "print('Listo')\n",
    "\n",
    "os.system('./NanoShaper Meshing_Fibrinogeno/Config_3ghg_d02')\n",
    "os.system('cp triangulatedSurf.face Meshing_Fibrinogeno/3ghg_NanoShaper_d02.face')\n",
    "os.system('cp triangulatedSurf.vert Meshing_Fibrinogeno/3ghg_NanoShaper_d02.vert')\n",
    "os.system('rm -r  triangulatedSurf.face')\n",
    "os.system('rm -r  triangulatedSurf.vert')\n",
    "print('Listo')\n",
    "\n",
    "os.system('./NanoShaper Meshing_Fibrinogeno/Config_3ghg_d04')\n",
    "os.system('cp triangulatedSurf.face Meshing_Fibrinogeno/3ghg_NanoShaper_d04.face')\n",
    "os.system('cp triangulatedSurf.vert Meshing_Fibrinogeno/3ghg_NanoShaper_d04.vert')\n",
    "os.system('rm -r  triangulatedSurf.face')\n",
    "os.system('rm -r  triangulatedSurf.vert')\n",
    "print('Listo')\n",
    "\n",
    "os.system('./NanoShaper Meshing_Fibrinogeno/Config_3ghg_d08')\n",
    "os.system('cp triangulatedSurf.face Meshing_Fibrinogeno/3ghg_NanoShaper_d08.face')\n",
    "os.system('cp triangulatedSurf.vert Meshing_Fibrinogeno/3ghg_NanoShaper_d08.vert')\n",
    "os.system('rm -r  triangulatedSurf.face')\n",
    "os.system('rm -r  triangulatedSurf.vert')\n",
    "print('Listo')\n",
    "\n",
    "\n",
    "os.system('rm -r exposed.xyz')\n",
    "os.system('rm -r exposedIndices.txt')\n",
    "os.system('rm -r stderror.txt')\n",
    "os.system('rm -r triangleAreas.txt')\n",
    "os.system('rm -r Meshing_Fibrinogeno/Config_3ghg_d01')\n",
    "os.system('rm -r Meshing_Fibrinogeno/Config_3ghg_d02')\n",
    "os.system('rm -r Meshing_Fibrinogeno/Config_3ghg_d04')\n",
    "os.system('rm -r Meshing_Fibrinogeno/Config_3ghg_d08')\n",
    "print('Listo')\n",
    "\n",
    "#En cada una de los archivos de malla, antes de ser utilizados en PyGBe se requiere dejar como comentario el numero\n",
    "#de elementos y de vertices que aparece en estos archivos. Basta con agregar # antes del numero respectivo."
   ]
  },
  {
   "cell_type": "markdown",
   "metadata": {},
   "source": [
    "### Mesh 1FZA: Dominio D Fibrinogeno"
   ]
  },
  {
   "cell_type": "code",
   "execution_count": 7,
   "metadata": {},
   "outputs": [
    {
     "name": "stdout",
     "output_type": "stream",
     "text": [
      "Listo\n",
      "Listo\n",
      "Listo\n",
      "Listo\n",
      "Listo\n"
     ]
    }
   ],
   "source": [
    "Funcion_Meshing('Meshing_Fibrinogeno/Config_1fza_d01',0.55,'1fza_one_modif.xyzr')\n",
    "Funcion_Meshing('Meshing_Fibrinogeno/Config_1fza_d02',0.789,'1fza_one_modif.xyzr')\n",
    "Funcion_Meshing('Meshing_Fibrinogeno/Config_1fza_d04',1.129,'1fza_one_modif.xyzr')\n",
    "Funcion_Meshing('Meshing_Fibrinogeno/Config_1fza_d08',1.609,'1fza_one_modif.xyzr')\n",
    "\n",
    "os.system('./NanoShaper Meshing_Fibrinogeno/Config_1fza_d01')\n",
    "os.system('cp triangulatedSurf.face Meshing_Fibrinogeno/1fza_NanoShaper_d01.face')\n",
    "os.system('cp triangulatedSurf.vert Meshing_Fibrinogeno/1fza_NanoShaper_d01.vert')\n",
    "os.system('rm -r  triangulatedSurf.face')\n",
    "os.system('rm -r  triangulatedSurf.vert')\n",
    "print('Listo')\n",
    "\n",
    "os.system('./NanoShaper Meshing_Fibrinogeno/Config_1fza_d02')\n",
    "os.system('cp triangulatedSurf.face Meshing_Fibrinogeno/1fza_NanoShaper_d02.face')\n",
    "os.system('cp triangulatedSurf.vert Meshing_Fibrinogeno/1fza_NanoShaper_d02.vert')\n",
    "os.system('rm -r  triangulatedSurf.face')\n",
    "os.system('rm -r  triangulatedSurf.vert')\n",
    "print('Listo')\n",
    "\n",
    "os.system('./NanoShaper Meshing_Fibrinogeno/Config_1fza_d04')\n",
    "os.system('cp triangulatedSurf.face Meshing_Fibrinogeno/1fza_NanoShaper_d04.face')\n",
    "os.system('cp triangulatedSurf.vert Meshing_Fibrinogeno/1fza_NanoShaper_d04.vert')\n",
    "os.system('rm -r  triangulatedSurf.face')\n",
    "os.system('rm -r  triangulatedSurf.vert')\n",
    "print('Listo')\n",
    "\n",
    "os.system('./NanoShaper Meshing_Fibrinogeno/Config_1fza_d08')\n",
    "os.system('cp triangulatedSurf.face Meshing_Fibrinogeno/1fza_NanoShaper_d08.face')\n",
    "os.system('cp triangulatedSurf.vert Meshing_Fibrinogeno/1fza_NanoShaper_d08.vert')\n",
    "os.system('rm -r  triangulatedSurf.face')\n",
    "os.system('rm -r  triangulatedSurf.vert')\n",
    "print('Listo')\n",
    "\n",
    "\n",
    "os.system('rm -r exposed.xyz')\n",
    "os.system('rm -r exposedIndices.txt')\n",
    "os.system('rm -r stderror.txt')\n",
    "os.system('rm -r triangleAreas.txt')\n",
    "os.system('rm -r Meshing_Fibrinogeno/Config_1fza_d01')\n",
    "os.system('rm -r Meshing_Fibrinogeno/Config_1fza_d02')\n",
    "os.system('rm -r Meshing_Fibrinogeno/Config_1fza_d04')\n",
    "os.system('rm -r Meshing_Fibrinogeno/Config_1fza_d08')\n",
    "print('Listo')\n",
    "\n",
    "#En cada una de los archivos de malla, antes de ser utilizados en PyGBe se requiere dejar como comentario el numero\n",
    "#de elementos y de vertices que aparece en estos archivos. Basta con agregar # antes del numero respectivo."
   ]
  },
  {
   "cell_type": "code",
   "execution_count": null,
   "metadata": {},
   "outputs": [],
   "source": []
  }
 ],
 "metadata": {
  "kernelspec": {
   "display_name": "Python 3",
   "language": "python",
   "name": "python3"
  },
  "language_info": {
   "codemirror_mode": {
    "name": "ipython",
    "version": 3
   },
   "file_extension": ".py",
   "mimetype": "text/x-python",
   "name": "python",
   "nbconvert_exporter": "python",
   "pygments_lexer": "ipython3",
   "version": "3.6.5"
  }
 },
 "nbformat": 4,
 "nbformat_minor": 2
}

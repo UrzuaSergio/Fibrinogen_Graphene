{
 "cells": [
  {
   "cell_type": "code",
   "execution_count": 14,
   "metadata": {},
   "outputs": [
    {
     "name": "stdout",
     "output_type": "stream",
     "text": [
      "r 2\n",
      "p248: 1.4288271716823886 p124: 1.896011603733671\n",
      "E_solv_extrapolado: -5560.527507962998 KJ/mol\n"
     ]
    }
   ],
   "source": [
    "from numpy import *\n",
    "from pylab import *\n",
    "\n",
    "#3GHG posición original pqr... (sin orientar con Move_Protein.py)\n",
    "Esolv = array([-8392.440055,-6408.552868,-5875.511877,-5677.52301])\n",
    "N=array([71364,150852,314580,646808])\n",
    "#Densidad_mesh_BEM\n",
    "N_densidad=array([1,2,4,8])\n",
    "\n",
    "\n",
    "r=2\n",
    "#r=1.25\n",
    "print('r',r)\n",
    "\n",
    "p=log((Esolv[1]-Esolv[2])/(Esolv[2]-Esolv[3]))/log(r)\n",
    "p1=log((Esolv[0]-Esolv[1])/(Esolv[1]-Esolv[2]))/log(r)\n",
    "print('p248:',p,'p124:',p1)\n",
    "fsolvextrapolado=Esolv[3] + ((Esolv[3]-Esolv[2])/((r**p) -1))\n",
    "print('E_solv_extrapolado:',fsolvextrapolado,'KJ/mol')"
   ]
  },
  {
   "cell_type": "code",
   "execution_count": 15,
   "metadata": {},
   "outputs": [
    {
     "data": {
      "text/plain": [
       "<Figure size 240x160 with 0 Axes>"
      ]
     },
     "metadata": {},
     "output_type": "display_data"
    }
   ],
   "source": [
    "font = {'family':'serif','size':7}\n",
    "figure(figsize=(3,2), dpi=80)\n",
    "rc('font',**font)\n",
    "\n",
    "semilogx(N, Esolv, c='k', marker='o', mfc='w', ms=3,ls='-',lw=0.5, label='3GHG Aislada')\n",
    "semilogx(N,fsolvextrapolado*ones(4), c='k', marker='', mfc='w', ms=1, ls='dotted',lw=0.2)\n",
    "ylabel('$E_{solv}$ [kcal/mol]', fontsize=10)\n",
    "xlabel('N mesh',fontsize=10)\n",
    "text(72000, fsolvextrapolado,'An. sol. = -5560.5275',fontsize=7,rotation=0)\n",
    "subplots_adjust(left=0.25, bottom=0.21, right=0.96, top=0.95)\n",
    "axis([65000,700000,-9000, -5000])\n",
    "#axis([65000,700000,-17000, -10000])\n",
    "legend(loc='lower right')\n",
    "savefig('3ghg_Aislada_Extrapolacion.pdf')\n",
    "clf()\n",
    "show()"
   ]
  },
  {
   "cell_type": "code",
   "execution_count": 16,
   "metadata": {},
   "outputs": [
    {
     "name": "stdout",
     "output_type": "stream",
     "text": [
      "[0.50928847 0.15250808 0.05664649 0.02104036]\n"
     ]
    },
    {
     "data": {
      "text/plain": [
       "<Figure size 240x160 with 0 Axes>"
      ]
     },
     "metadata": {},
     "output_type": "display_data"
    }
   ],
   "source": [
    "PyGerr = abs(Esolv-fsolvextrapolado)/abs(fsolvextrapolado)\n",
    "figure(figsize=(3,2), dpi=80)\n",
    "print(PyGerr)\n",
    "#loglog(N, PyGerr, c='k', marker='o', mfc='w', ms=3, ls='', lw=0.5, label='test3ghg')\n",
    "#loglog(N, (17000./(N)) , c='k', marker='', mfc='w', ms=3, ls=':', lw=0.8, label=None)\n",
    "loglog(N_densidad, PyGerr, c='k', marker='o', mfc='w', ms=3, ls='', lw=0.5, label='3GHG Aislada')\n",
    "loglog(N_densidad, 1./(N_densidad*4.95), c='k', marker='', mfc='w', ms=3, ls=':', lw=0.8, label=None)\n",
    "text(0.4e1, 0.7e-1,'1/N',fontsize=6,rotation=-15)\n",
    "ylabel('Error', fontsize=10)\n",
    "xlabel('N mesh',fontsize=10)\n",
    "subplots_adjust(left=0.25, bottom=0.21, right=0.96, top=0.95)\n",
    "#axis([5000,2000000,0.0001, 1])\n",
    "axis([0.5,10,0.0001, 1])\n",
    "legend(loc='lower right')\n",
    "savefig('Error_3ghg.pdf')\n",
    "clf()"
   ]
  },
  {
   "cell_type": "code",
   "execution_count": null,
   "metadata": {},
   "outputs": [],
   "source": []
  },
  {
   "cell_type": "code",
   "execution_count": null,
   "metadata": {},
   "outputs": [],
   "source": []
  },
  {
   "cell_type": "markdown",
   "metadata": {},
   "source": [
    "Interactuando"
   ]
  },
  {
   "cell_type": "code",
   "execution_count": 20,
   "metadata": {},
   "outputs": [
    {
     "name": "stdout",
     "output_type": "stream",
     "text": [
      "r 2\n",
      "p248: 1.4344794247195662\n",
      "E_solv_extrapolado: -5561.491215111957 KJ/mol\n"
     ]
    }
   ],
   "source": [
    "Esolv2 = array([-8392.726664,-6410.540224,-5875.622669,-5677.713682])\n",
    "N2=array([71364+462520,150852+927184,314580+1856144,646808+3735544])\n",
    "#Densidad_mesh_BEM\n",
    "N_densidad2=array([1,2,4,8])\n",
    "\n",
    "\n",
    "r2=2\n",
    "#r=1.25\n",
    "print('r',r2)\n",
    "\n",
    "p=log((Esolv2[1]-Esolv2[2])/(Esolv2[2]-Esolv2[3]))/log(r)\n",
    "#p1=log((Esolv[0]-Esolv[1])/(Esolv[1]-Esolv[2]))/log(r)\n",
    "print('p248:',p)\n",
    "fsolvextrapolado2=Esolv2[3] + ((Esolv2[3]-Esolv2[2])/((r2**p) -1))\n",
    "print('E_solv_extrapolado:',fsolvextrapolado2,'KJ/mol')"
   ]
  },
  {
   "cell_type": "code",
   "execution_count": 21,
   "metadata": {},
   "outputs": [
    {
     "data": {
      "text/plain": [
       "<Figure size 240x160 with 0 Axes>"
      ]
     },
     "metadata": {},
     "output_type": "display_data"
    }
   ],
   "source": [
    "font = {'family':'serif','size':7}\n",
    "figure(figsize=(3,2), dpi=80)\n",
    "rc('font',**font)\n",
    "\n",
    "semilogx(N2, Esolv2, c='k', marker='o', mfc='w', ms=3,ls='-',lw=0.5, label='3GHG - Graph 478x475')\n",
    "semilogx(N2,fsolvextrapolado2*ones(4), c='k', marker='', mfc='w', ms=1, ls='dotted',lw=0.2)\n",
    "ylabel('$E_{solv}$ [kcal/mol]', fontsize=10)\n",
    "xlabel('N mesh',fontsize=10)\n",
    "text(500000, fsolvextrapolado,'An. sol. = -5561.4912',fontsize=7,rotation=0)\n",
    "subplots_adjust(left=0.25, bottom=0.21, right=0.96, top=0.95)\n",
    "axis([500000,5000000,-9000, -5000])\n",
    "#axis([65000,700000,-17000, -10000])\n",
    "legend(loc='lower right')\n",
    "savefig('3ghg-graph_Extrapolacion.pdf')\n",
    "clf()"
   ]
  },
  {
   "cell_type": "code",
   "execution_count": 22,
   "metadata": {},
   "outputs": [
    {
     "name": "stdout",
     "output_type": "stream",
     "text": [
      "[0.50907847 0.15266571 0.05648331 0.02089772]\n"
     ]
    },
    {
     "data": {
      "text/plain": [
       "<Figure size 240x160 with 0 Axes>"
      ]
     },
     "metadata": {},
     "output_type": "display_data"
    }
   ],
   "source": [
    "PyGerr2 = abs(Esolv2-fsolvextrapolado2)/abs(fsolvextrapolado2)\n",
    "figure(figsize=(3,2), dpi=80)\n",
    "print(PyGerr2)\n",
    "#loglog(N, PyGerr, c='k', marker='o', mfc='w', ms=3, ls='', lw=0.5, label='test3ghg')\n",
    "#loglog(N2, (95000./(N2)) , c='k', marker='', mfc='w', ms=3, ls=':', lw=0.8, label=None)\n",
    "loglog(N_densidad2, PyGerr2, c='k', marker='o', mfc='w', ms=3, ls='', lw=0.5, label='3GHG - Graph 478x475')\n",
    "loglog(N_densidad2, 1./(N_densidad2*4.95), c='k', marker='', mfc='w', ms=3, ls=':', lw=0.8, label=None)\n",
    "text(0.4e1, 0.7e-1,'1/N',fontsize=6,rotation=-15)\n",
    "ylabel('Error', fontsize=10)\n",
    "xlabel('N mesh',fontsize=10)\n",
    "subplots_adjust(left=0.25, bottom=0.21, right=0.96, top=0.95)\n",
    "#axis([100000,7000000,0.0001, 1])\n",
    "axis([0.5,24,0.0001, 1])\n",
    "legend(loc='lower right')\n",
    "savefig('Error_3ghg-graph.pdf')\n",
    "clf()"
   ]
  },
  {
   "cell_type": "markdown",
   "metadata": {},
   "source": [
    "## 1FZA aislada"
   ]
  },
  {
   "cell_type": "code",
   "execution_count": 7,
   "metadata": {},
   "outputs": [
    {
     "name": "stdout",
     "output_type": "stream",
     "text": [
      "r 2\n",
      "p248: 1.4378478628723672 p124: 1.78835618549321\n",
      "E_solv_extrapolado: -1876.139020906124 KJ/mol\n"
     ]
    }
   ],
   "source": [
    "from numpy import *\n",
    "from pylab import *\n",
    "\n",
    "Esolv = array([-2811.874201,-2170.469306,-1984.781487,-1916.240859])\n",
    "N=array([23884,50624,105560,216756])\n",
    "#Densidad_mesh_BEM\n",
    "N1=array([1,2,4,8])\n",
    "\n",
    "\n",
    "r=2\n",
    "#r=1.25\n",
    "print('r',r)\n",
    "\n",
    "p=log((Esolv[1]-Esolv[2])/(Esolv[2]-Esolv[3]))/log(r)\n",
    "p1=log((Esolv[0]-Esolv[1])/(Esolv[1]-Esolv[2]))/log(r)\n",
    "print('p248:',p,'p124:',p1)\n",
    "fsolvextrapolado=Esolv[3] + ((Esolv[3]-Esolv[2])/((r**p) -1))\n",
    "print('E_solv_extrapolado:',fsolvextrapolado,'KJ/mol')"
   ]
  },
  {
   "cell_type": "code",
   "execution_count": 8,
   "metadata": {},
   "outputs": [
    {
     "data": {
      "text/plain": [
       "<Figure size 240x160 with 0 Axes>"
      ]
     },
     "metadata": {},
     "output_type": "display_data"
    }
   ],
   "source": [
    "font = {'family':'serif','size':7}\n",
    "figure(figsize=(3,2), dpi=80)\n",
    "rc('font',**font)\n",
    "\n",
    "semilogx(N, Esolv, c='k', marker='o', mfc='w', ms=3,ls='-',lw=0.5, label='1FZA Aislada')\n",
    "semilogx(N,fsolvextrapolado*ones(4), c='k', marker='', mfc='w', ms=1, ls='dotted',lw=0.2)\n",
    "ylabel('$E_{solv}$ [kcal/mol]', fontsize=10)\n",
    "xlabel('N mesh',fontsize=10)\n",
    "text(500000, fsolvextrapolado,'An. sol. = -5560.5275',fontsize=7,rotation=0)\n",
    "subplots_adjust(left=0.25, bottom=0.21, right=0.96, top=0.95)\n",
    "axis([18000,300000,-4000, -1200])\n",
    "#axis([65000,700000,-17000, -10000])\n",
    "legend(loc='lower right')\n",
    "savefig('1fza_Extrapolacion.pdf')\n",
    "clf()"
   ]
  },
  {
   "cell_type": "code",
   "execution_count": 9,
   "metadata": {},
   "outputs": [
    {
     "name": "stdout",
     "output_type": "stream",
     "text": [
      "[0.49875578 0.15688085 0.05790747 0.02137466]\n"
     ]
    },
    {
     "data": {
      "text/plain": [
       "<Figure size 240x160 with 0 Axes>"
      ]
     },
     "metadata": {},
     "output_type": "display_data"
    }
   ],
   "source": [
    "#N2=array([71364+462520,150852+927184,314580+1856144,646808+3735544])\n",
    "PyGerr = abs(Esolv-fsolvextrapolado)/abs(fsolvextrapolado)\n",
    "figure(figsize=(3,2), dpi=80)\n",
    "print(PyGerr)\n",
    "#loglog(N, PyGerr, c='k', marker='o', mfc='w', ms=3, ls='', lw=0.5, label='1FZA-Aislada')\n",
    "#loglog(N, (5900./(N)) , c='k', marker='', mfc='w', ms=3, ls=':', lw=0.8, label=None)\n",
    "loglog(N1, PyGerr, c='k', marker='o', mfc='w', ms=3, ls='', lw=0.5, label='1FZA Aislada')\n",
    "loglog(N1, 1./(N1*4.95), c='k', marker='', mfc='w', ms=3, ls=':', lw=0.8, label=None)\n",
    "text(0.4e1, 0.7e-1,'1/N',fontsize=6,rotation=-15)\n",
    "ylabel('Error', fontsize=10)\n",
    "xlabel('N mesh',fontsize=10)\n",
    "subplots_adjust(left=0.25, bottom=0.21, right=0.96, top=0.95)\n",
    "#axis([10000,1000000,0.0001, 1])\n",
    "axis([0.5,24,0.0001, 1])\n",
    "legend(loc='lower right')\n",
    "savefig('Error_1fza.pdf')\n",
    "clf()"
   ]
  },
  {
   "cell_type": "markdown",
   "metadata": {},
   "source": [
    "## 1FZA - Graph 252x252"
   ]
  },
  {
   "cell_type": "code",
   "execution_count": 10,
   "metadata": {},
   "outputs": [
    {
     "name": "stdout",
     "output_type": "stream",
     "text": [
      "r 2\n",
      "p248: 1.4341683667440126 p124: 1.7870654096764036\n",
      "E_solv_extrapolado: -1875.7580464797802 KJ/mol\n"
     ]
    }
   ],
   "source": [
    "\n",
    "Esolv = array([-2811.732558,-2170.646118,-1984.884366,-1916.141347])\n",
    "N=array([154364,313016,631116,1275548])\n",
    "#Densidad_mesh_BEM\n",
    "N1=array([1,2,4,8])\n",
    "\n",
    "\n",
    "r=2\n",
    "#r=1.25\n",
    "print('r',r)\n",
    "\n",
    "p=log((Esolv[1]-Esolv[2])/(Esolv[2]-Esolv[3]))/log(r)\n",
    "p1=log((Esolv[0]-Esolv[1])/(Esolv[1]-Esolv[2]))/log(r)\n",
    "print('p248:',p,'p124:',p1)\n",
    "fsolvextrapolado=Esolv[3] + ((Esolv[3]-Esolv[2])/((r**p) -1))\n",
    "print('E_solv_extrapolado:',fsolvextrapolado,'KJ/mol')"
   ]
  },
  {
   "cell_type": "code",
   "execution_count": 11,
   "metadata": {},
   "outputs": [
    {
     "data": {
      "text/plain": [
       "<Figure size 240x160 with 0 Axes>"
      ]
     },
     "metadata": {},
     "output_type": "display_data"
    }
   ],
   "source": [
    "font = {'family':'serif','size':7}\n",
    "figure(figsize=(3,2), dpi=80)\n",
    "rc('font',**font)\n",
    "\n",
    "semilogx(N, Esolv, c='k', marker='o', mfc='w', ms=3,ls='-',lw=0.5, label='1FZA - Graph 252x252')\n",
    "semilogx(N,fsolvextrapolado*ones(4), c='k', marker='', mfc='w', ms=1, ls='dotted',lw=0.2)\n",
    "ylabel('$E_{solv}$ [kcal/mol]', fontsize=10)\n",
    "xlabel('N mesh',fontsize=10)\n",
    "text(500000, fsolvextrapolado,'An. sol. = -5560.5275',fontsize=7,rotation=0)\n",
    "subplots_adjust(left=0.25, bottom=0.21, right=0.96, top=0.95)\n",
    "axis([120000,1500000,-4000, -1200])\n",
    "#axis([65000,700000,-17000, -10000])\n",
    "legend(loc='lower right')\n",
    "savefig('1fza-graph_Extrapolacion.pdf')\n",
    "clf()"
   ]
  },
  {
   "cell_type": "code",
   "execution_count": 12,
   "metadata": {},
   "outputs": [
    {
     "name": "stdout",
     "output_type": "stream",
     "text": [
      "[0.49898467 0.15721008 0.05817718 0.02152906]\n"
     ]
    },
    {
     "data": {
      "text/plain": [
       "<Figure size 240x160 with 0 Axes>"
      ]
     },
     "metadata": {},
     "output_type": "display_data"
    }
   ],
   "source": [
    "PyGerr = abs(Esolv-fsolvextrapolado)/abs(fsolvextrapolado)\n",
    "figure(figsize=(3,2), dpi=80)\n",
    "print(PyGerr)\n",
    "#loglog(N, PyGerr, c='k', marker='o', mfc='w', ms=3, ls='', lw=0.5, label='1FZA-Aislada')\n",
    "#loglog(N, (5900./(N)) , c='k', marker='', mfc='w', ms=3, ls=':', lw=0.8, label=None)\n",
    "loglog(N1, PyGerr, c='k', marker='o', mfc='w', ms=3, ls='', lw=0.5, label='1FZA Aislada')\n",
    "loglog(N1, 1./(N1*4.95), c='k', marker='', mfc='w', ms=3, ls=':', lw=0.8, label=None)\n",
    "text(0.4e1, 0.7e-1,'1/N',fontsize=6,rotation=-15)\n",
    "ylabel('Error', fontsize=10)\n",
    "xlabel('N mesh',fontsize=10)\n",
    "subplots_adjust(left=0.25, bottom=0.21, right=0.96, top=0.95)\n",
    "#axis([10000,1000000,0.0001, 1])\n",
    "axis([0.5,24,0.0001, 1])\n",
    "legend(loc='lower right')\n",
    "savefig('Error_1fza-graph.pdf')\n",
    "clf()"
   ]
  },
  {
   "cell_type": "code",
   "execution_count": null,
   "metadata": {},
   "outputs": [],
   "source": []
  },
  {
   "cell_type": "code",
   "execution_count": null,
   "metadata": {},
   "outputs": [],
   "source": []
  }
 ],
 "metadata": {
  "kernelspec": {
   "display_name": "Python 3",
   "language": "python",
   "name": "python3"
  },
  "language_info": {
   "codemirror_mode": {
    "name": "ipython",
    "version": 3
   },
   "file_extension": ".py",
   "mimetype": "text/x-python",
   "name": "python",
   "nbconvert_exporter": "python",
   "pygments_lexer": "ipython3",
   "version": "3.6.5"
  }
 },
 "nbformat": 4,
 "nbformat_minor": 2
}

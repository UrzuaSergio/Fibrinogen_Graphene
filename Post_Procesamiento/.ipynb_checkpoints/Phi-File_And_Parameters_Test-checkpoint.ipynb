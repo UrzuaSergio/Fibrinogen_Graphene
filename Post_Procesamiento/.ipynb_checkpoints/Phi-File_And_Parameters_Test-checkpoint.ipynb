{
 "cells": [
  {
   "cell_type": "markdown",
   "metadata": {},
   "source": [
    "# I. Selección parametros de ejecución PyGBe"
   ]
  },
  {
   "cell_type": "markdown",
   "metadata": {},
   "source": [
    "## Caso 1: 1FZA"
   ]
  },
  {
   "cell_type": "code",
   "execution_count": 1,
   "metadata": {},
   "outputs": [],
   "source": [
    "from numpy import *\n",
    "import os\n",
    "from pylab import *"
   ]
  },
  {
   "cell_type": "code",
   "execution_count": 33,
   "metadata": {},
   "outputs": [
    {
     "data": {
      "text/plain": [
       "0"
      ]
     },
     "execution_count": 33,
     "metadata": {},
     "output_type": "execute_result"
    }
   ],
   "source": [
    "os.system('mkdir Test_Parametros_Phi-File/')"
   ]
  },
  {
   "cell_type": "code",
   "execution_count": 68,
   "metadata": {},
   "outputs": [
    {
     "data": {
      "text/plain": [
       "<Figure size 240x160 with 0 Axes>"
      ]
     },
     "metadata": {},
     "output_type": "display_data"
    }
   ],
   "source": [
    "Energias=[-1984.081548,-1983.966539,-1983.981476,-1984.934009,-1984.919022,-1989.285349,\n",
    "          -1989.270164,-1983.976253,-1983.991195,-1982.461713,-1982.476638,-1984.928565,\n",
    "          -1984.943555,-1989.278932,-1989.924121,-1983.414581,-1983.429560,-1987.764538,-1987.779714\n",
    "         ]\n",
    "\n",
    "E_fina=Energias[0]\n",
    "\n",
    "Tiempos=[1,1]\n",
    "\n",
    "N_Caso=[1,2,3,4,5,6,7,8,9,10,11,12,13,14,15,16,17,18,19]\n",
    "\n",
    "figure(figsize=(3,2), dpi=80)\n",
    "plot(N_Caso, Energias, c='k', marker='s', mfc='w', ms=1, ls='-', lw=0.5, label='1FZA Aislada')\n",
    "plot(N_Caso, E_fina*ones(19), c='k', marker='', mfc='w', ms=3, ls=':', lw=0.8, label=None)\n",
    "ylabel('Esolv [Kcal/mol]', fontsize=8)\n",
    "xlabel('N° de Caso',fontsize=10)\n",
    "subplots_adjust(left=0.25, bottom=0.21, right=0.96, top=0.95)\n",
    "axis([0,20,-1992, -1982])\n",
    "legend(loc='lower right')\n",
    "savefig('Test_Parametros_Phi-File/1FZA_Test_parametros.pdf')\n",
    "clf()\n",
    "\n"
   ]
  },
  {
   "cell_type": "code",
   "execution_count": null,
   "metadata": {},
   "outputs": [],
   "source": []
  },
  {
   "cell_type": "code",
   "execution_count": null,
   "metadata": {},
   "outputs": [],
   "source": []
  }
 ],
 "metadata": {
  "kernelspec": {
   "display_name": "Python 3",
   "language": "python",
   "name": "python3"
  },
  "language_info": {
   "codemirror_mode": {
    "name": "ipython",
    "version": 3
   },
   "file_extension": ".py",
   "mimetype": "text/x-python",
   "name": "python",
   "nbconvert_exporter": "python",
   "pygments_lexer": "ipython3",
   "version": "3.6.5"
  }
 },
 "nbformat": 4,
 "nbformat_minor": 2
}

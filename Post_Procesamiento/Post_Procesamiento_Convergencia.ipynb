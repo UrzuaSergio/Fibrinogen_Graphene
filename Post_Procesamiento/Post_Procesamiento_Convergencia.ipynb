{
 "cells": [
  {
   "cell_type": "markdown",
   "metadata": {},
   "source": [
    "## Estudio de Convergencia Fibrinogeno 3GHG"
   ]
  },
  {
   "cell_type": "code",
   "execution_count": 1,
   "metadata": {},
   "outputs": [
    {
     "name": "stdout",
     "output_type": "stream",
     "text": [
      "r: 2\n",
      "p248: 1.4288271716823886\n",
      "E_solv_extrapolado: -5560.527507962998 KJ/mol\n"
     ]
    }
   ],
   "source": [
    "from numpy import *\n",
    "from pylab import *\n",
    "import os\n",
    "\n",
    "\n",
    "os.system('mkdir Convergencia/')\n",
    "Esolv = array([-8392.440055,-6408.552868,-5875.511877,-5677.52301])\n",
    "N=array([71364,150852,314580,646808])\n",
    "N_densidad=array([1,2,4,8])\n",
    "\n",
    "\n",
    "r=2\n",
    "print('r:',r)\n",
    "\n",
    "p=log((Esolv[1]-Esolv[2])/(Esolv[2]-Esolv[3]))/log(r)\n",
    "print('p248:',p)\n",
    "fsolvextrapolado=Esolv[3] + ((Esolv[3]-Esolv[2])/((r**p) -1))\n",
    "print('E_solv_extrapolado:',fsolvextrapolado,'KJ/mol')"
   ]
  },
  {
   "cell_type": "code",
   "execution_count": 2,
   "metadata": {},
   "outputs": [
    {
     "data": {
      "text/plain": [
       "<Figure size 240x160 with 0 Axes>"
      ]
     },
     "metadata": {},
     "output_type": "display_data"
    }
   ],
   "source": [
    "font = {'family':'serif','size':7}\n",
    "figure(figsize=(3,2), dpi=80)\n",
    "rc('font',**font)\n",
    "\n",
    "semilogx(N, Esolv, c='k', marker='o', mfc='w', ms=3,ls='-',lw=0.5, label='3GHG Aislada')\n",
    "semilogx(N,fsolvextrapolado*ones(4), c='k', marker='', mfc='w', ms=1, ls='dotted',lw=0.2)\n",
    "ylabel('$E_{solv}$ [kcal/mol]', fontsize=10)\n",
    "xlabel('N mesh',fontsize=10)\n",
    "text(72000, fsolvextrapolado,'An. sol. = -5560.5275',fontsize=7,rotation=0)\n",
    "subplots_adjust(left=0.25, bottom=0.21, right=0.96, top=0.95)\n",
    "axis([65000,700000,-9000, -5000])\n",
    "legend(loc='lower right')\n",
    "savefig('Convergencia/3ghg_Aislada_Extrapolacion.pdf')\n",
    "clf()\n",
    "show()"
   ]
  },
  {
   "cell_type": "code",
   "execution_count": 3,
   "metadata": {},
   "outputs": [
    {
     "name": "stdout",
     "output_type": "stream",
     "text": [
      "[0.50928847 0.15250808 0.05664649 0.02104036]\n"
     ]
    },
    {
     "data": {
      "text/plain": [
       "<Figure size 240x160 with 0 Axes>"
      ]
     },
     "metadata": {},
     "output_type": "display_data"
    }
   ],
   "source": [
    "PyGerr = abs(Esolv-fsolvextrapolado)/abs(fsolvextrapolado)\n",
    "figure(figsize=(3,2), dpi=80)\n",
    "print(PyGerr)\n",
    "loglog(N_densidad, PyGerr, c='k', marker='o', mfc='w', ms=3, ls='', lw=0.5, label='3GHG Aislada')\n",
    "loglog(N_densidad, 1./(N_densidad*4.95), c='k', marker='', mfc='w', ms=3, ls=':', lw=0.8, label=None)\n",
    "text(0.4e1, 0.7e-1,'1/N',fontsize=6,rotation=-15)\n",
    "ylabel('Error', fontsize=10)\n",
    "xlabel('N mesh',fontsize=10)\n",
    "subplots_adjust(left=0.25, bottom=0.21, right=0.96, top=0.95)\n",
    "axis([0.5,10,0.0001, 1])\n",
    "legend(loc='lower right')\n",
    "savefig('Convergencia/Error_3ghg.pdf')\n",
    "clf()"
   ]
  },
  {
   "cell_type": "code",
   "execution_count": null,
   "metadata": {},
   "outputs": [],
   "source": []
  },
  {
   "cell_type": "markdown",
   "metadata": {},
   "source": [
    "## Graph 478x475"
   ]
  },
  {
   "cell_type": "code",
   "execution_count": 4,
   "metadata": {},
   "outputs": [
    {
     "name": "stdout",
     "output_type": "stream",
     "text": [
      "r 2\n",
      "p248: 0.870364719583372\n",
      "E_solv_extrapolado: -0.09494941509433964 KJ/mol\n"
     ]
    }
   ],
   "source": [
    "Esolv2 = array([-0.092712,-0.093658,-0.094243,-0.094563])\n",
    "N2=array([462520,927184,1856144,3735544])\n",
    "N_densidad2=array([1,2,4,8])\n",
    "\n",
    "\n",
    "r2=2\n",
    "print('r',r2)\n",
    "\n",
    "p=log((Esolv2[1]-Esolv2[2])/(Esolv2[2]-Esolv2[3]))/log(r)\n",
    "print('p248:',p)\n",
    "fsolvextrapolado2=Esolv2[3] + ((Esolv2[3]-Esolv2[2])/((r2**p) -1))\n",
    "print('E_solv_extrapolado:',fsolvextrapolado2,'KJ/mol')"
   ]
  },
  {
   "cell_type": "code",
   "execution_count": 5,
   "metadata": {},
   "outputs": [
    {
     "data": {
      "text/plain": [
       "<Figure size 240x160 with 0 Axes>"
      ]
     },
     "metadata": {},
     "output_type": "display_data"
    }
   ],
   "source": [
    "font = {'family':'serif','size':7}\n",
    "figure(figsize=(3,2), dpi=80)\n",
    "rc('font',**font)\n",
    "\n",
    "semilogx(N2, Esolv2, c='k', marker='o', mfc='w', ms=3,ls='-',lw=0.5, label='Graph 478x475')\n",
    "semilogx(N2,fsolvextrapolado2*ones(4), c='k', marker='', mfc='w', ms=1, ls='dotted',lw=0.2)\n",
    "ylabel('$E_{solv}$ [kcal/mol]', fontsize=10)\n",
    "xlabel('N mesh',fontsize=10)\n",
    "text(480000, -0.09496,'An. sol. = -0.09495',fontsize=7,rotation=0)\n",
    "subplots_adjust(left=0.25, bottom=0.21, right=0.96, top=0.95)\n",
    "axis([400000,5000000,-0.08, -0.1])\n",
    "legend(loc='lower right')\n",
    "savefig('Convergencia/graph_478x475_Extrapolacion.pdf')\n",
    "clf()"
   ]
  },
  {
   "cell_type": "code",
   "execution_count": 6,
   "metadata": {},
   "outputs": [
    {
     "name": "stdout",
     "output_type": "stream",
     "text": [
      "[0.02356429 0.01360109 0.00743991 0.00406969]\n"
     ]
    },
    {
     "data": {
      "text/plain": [
       "<Figure size 240x160 with 0 Axes>"
      ]
     },
     "metadata": {},
     "output_type": "display_data"
    }
   ],
   "source": [
    "PyGerr2 = abs(Esolv2-fsolvextrapolado2)/abs(fsolvextrapolado2)\n",
    "figure(figsize=(3,2), dpi=80)\n",
    "print(PyGerr2)\n",
    "loglog(N_densidad2, PyGerr2, c='k', marker='o', mfc='w', ms=3, ls='', lw=0.5, label='Graph 478x475')\n",
    "loglog(N_densidad2, 1./(N_densidad2*33.95), c='k', marker='', mfc='w', ms=3, ls=':', lw=0.8, label=None)\n",
    "text(0.4e1, 0.1e-1,'1/N',fontsize=6,rotation=-15)\n",
    "ylabel('Error', fontsize=10)\n",
    "xlabel('N mesh',fontsize=10)\n",
    "subplots_adjust(left=0.25, bottom=0.21, right=0.96, top=0.95)\n",
    "axis([0.5,24,0.0001, 1])\n",
    "legend(loc='lower right')\n",
    "savefig('Convergencia/Error_graph_478x475.pdf')\n",
    "clf()"
   ]
  },
  {
   "cell_type": "markdown",
   "metadata": {},
   "source": [
    "## Estudio de Convergencia 3GHG - Graph 478x475 Angs. Interactuando"
   ]
  },
  {
   "cell_type": "code",
   "execution_count": 7,
   "metadata": {},
   "outputs": [
    {
     "name": "stdout",
     "output_type": "stream",
     "text": [
      "r 2\n",
      "p248: 1.4354649379122515\n",
      "E_solv_extrapolado: -5565.379994796285 KJ/mol\n"
     ]
    }
   ],
   "source": [
    "#Tilt:148 - Rot:220\n",
    "Esolv2 = array([-8394.627914,-6413.926726,-5879.111231,-5681.375125])\n",
    "N2=array([71364+462520,150852+927184,314580+1856144,646808+3735544])\n",
    "N_densidad2=array([1,2,4,8])\n",
    "\n",
    "\n",
    "r2=2\n",
    "print('r',r2)\n",
    "\n",
    "p=log((Esolv2[1]-Esolv2[2])/(Esolv2[2]-Esolv2[3]))/log(r)\n",
    "print('p248:',p)\n",
    "fsolvextrapolado2=Esolv2[3] + ((Esolv2[3]-Esolv2[2])/((r2**p) -1))\n",
    "print('E_solv_extrapolado:',fsolvextrapolado2,'KJ/mol')"
   ]
  },
  {
   "cell_type": "code",
   "execution_count": 8,
   "metadata": {},
   "outputs": [
    {
     "data": {
      "text/plain": [
       "<Figure size 240x160 with 0 Axes>"
      ]
     },
     "metadata": {},
     "output_type": "display_data"
    }
   ],
   "source": [
    "font = {'family':'serif','size':7}\n",
    "figure(figsize=(3,2), dpi=80)\n",
    "rc('font',**font)\n",
    "\n",
    "semilogx(N2, Esolv2, c='k', marker='o', mfc='w', ms=3,ls='-',lw=0.5, label='3GHG - Graph 478x475')\n",
    "semilogx(N2,fsolvextrapolado2*ones(4), c='k', marker='', mfc='w', ms=1, ls='dotted',lw=0.2)\n",
    "ylabel('$E_{solv}$ [kcal/mol]', fontsize=10)\n",
    "xlabel('N mesh',fontsize=10)\n",
    "text(520000, fsolvextrapolado,'An. sol. = -5565.3799',fontsize=7,rotation=0)\n",
    "subplots_adjust(left=0.25, bottom=0.21, right=0.96, top=0.95)\n",
    "axis([500000,5000000,-9000, -5000])\n",
    "legend(loc='lower right')\n",
    "savefig('Convergencia/3ghg-graph_Extrapolacion.pdf')\n",
    "clf()"
   ]
  },
  {
   "cell_type": "code",
   "execution_count": 9,
   "metadata": {},
   "outputs": [
    {
     "name": "stdout",
     "output_type": "stream",
     "text": [
      "[0.50836563 0.15246879 0.05637193 0.02084227]\n"
     ]
    },
    {
     "data": {
      "text/plain": [
       "<Figure size 240x160 with 0 Axes>"
      ]
     },
     "metadata": {},
     "output_type": "display_data"
    }
   ],
   "source": [
    "PyGerr2 = abs(Esolv2-fsolvextrapolado2)/abs(fsolvextrapolado2)\n",
    "figure(figsize=(3,2), dpi=80)\n",
    "print(PyGerr2)\n",
    "loglog(N_densidad2, PyGerr2, c='k', marker='o', mfc='w', ms=3, ls='', lw=0.5, label='3GHG - Graph 478x475')\n",
    "loglog(N_densidad2, 1./(N_densidad2*4.95), c='k', marker='', mfc='w', ms=3, ls=':', lw=0.8, label=None)\n",
    "text(0.4e1, 0.7e-1,'1/N',fontsize=6,rotation=-15)\n",
    "ylabel('Error', fontsize=10)\n",
    "xlabel('N mesh',fontsize=10)\n",
    "subplots_adjust(left=0.25, bottom=0.21, right=0.96, top=0.95)\n",
    "axis([0.5,24,0.0001, 1])\n",
    "legend(loc='lower right')\n",
    "savefig('Convergencia/Error_3ghg-graph.pdf')\n",
    "clf()"
   ]
  },
  {
   "cell_type": "markdown",
   "metadata": {},
   "source": [
    "## Estudio de Convergencia Dominio D fibrinogeno 1FZA"
   ]
  },
  {
   "cell_type": "code",
   "execution_count": 10,
   "metadata": {},
   "outputs": [
    {
     "name": "stdout",
     "output_type": "stream",
     "text": [
      "r 2\n",
      "p248: 1.4378478628723672 p124: 1.78835618549321\n",
      "Convergencia/E_solv_extrapolado: -1876.139020906124 KJ/mol\n"
     ]
    }
   ],
   "source": [
    "from numpy import *\n",
    "from pylab import *\n",
    "\n",
    "Esolv = array([-2811.874201,-2170.469306,-1984.781487,-1916.240859])\n",
    "N=array([23884,50624,105560,216756])\n",
    "N1=array([1,2,4,8])\n",
    "\n",
    "\n",
    "r=2\n",
    "print('r',r)\n",
    "\n",
    "p=log((Esolv[1]-Esolv[2])/(Esolv[2]-Esolv[3]))/log(r)\n",
    "p1=log((Esolv[0]-Esolv[1])/(Esolv[1]-Esolv[2]))/log(r)\n",
    "print('p248:',p,'p124:',p1)\n",
    "fsolvextrapolado=Esolv[3] + ((Esolv[3]-Esolv[2])/((r**p) -1))\n",
    "print('Convergencia/E_solv_extrapolado:',fsolvextrapolado,'KJ/mol')"
   ]
  },
  {
   "cell_type": "code",
   "execution_count": 11,
   "metadata": {},
   "outputs": [
    {
     "data": {
      "text/plain": [
       "<Figure size 240x160 with 0 Axes>"
      ]
     },
     "metadata": {},
     "output_type": "display_data"
    }
   ],
   "source": [
    "font = {'family':'serif','size':7}\n",
    "figure(figsize=(3,2), dpi=80)\n",
    "rc('font',**font)\n",
    "\n",
    "semilogx(N, Esolv, c='k', marker='o', mfc='w', ms=3,ls='-',lw=0.5, label='1FZA Aislada')\n",
    "semilogx(N,fsolvextrapolado*ones(4), c='k', marker='', mfc='w', ms=1, ls='dotted',lw=0.2)\n",
    "ylabel('$E_{solv}$ [kcal/mol]', fontsize=10)\n",
    "xlabel('N mesh',fontsize=10)\n",
    "text(500000, fsolvextrapolado,'An. sol. = -5560.5275',fontsize=7,rotation=0)\n",
    "subplots_adjust(left=0.25, bottom=0.21, right=0.96, top=0.95)\n",
    "axis([18000,300000,-4000, -1200])\n",
    "legend(loc='lower right')\n",
    "savefig('Convergencia/1fza_Extrapolacion.pdf')\n",
    "clf()"
   ]
  },
  {
   "cell_type": "code",
   "execution_count": 12,
   "metadata": {},
   "outputs": [
    {
     "name": "stdout",
     "output_type": "stream",
     "text": [
      "[0.49875578 0.15688085 0.05790747 0.02137466]\n"
     ]
    },
    {
     "data": {
      "text/plain": [
       "<Figure size 240x160 with 0 Axes>"
      ]
     },
     "metadata": {},
     "output_type": "display_data"
    }
   ],
   "source": [
    "PyGerr = abs(Esolv-fsolvextrapolado)/abs(fsolvextrapolado)\n",
    "figure(figsize=(3,2), dpi=80)\n",
    "print(PyGerr)\n",
    "loglog(N1, PyGerr, c='k', marker='o', mfc='w', ms=3, ls='', lw=0.5, label='1FZA Aislada')\n",
    "loglog(N1, 1./(N1*4.95), c='k', marker='', mfc='w', ms=3, ls=':', lw=0.8, label=None)\n",
    "text(0.4e1, 0.7e-1,'1/N',fontsize=6,rotation=-15)\n",
    "ylabel('Error', fontsize=10)\n",
    "xlabel('N mesh',fontsize=10)\n",
    "subplots_adjust(left=0.25, bottom=0.21, right=0.96, top=0.95)\n",
    "axis([0.5,24,0.0001, 1])\n",
    "legend(loc='lower right')\n",
    "savefig('Convergencia/Error_1fza.pdf')\n",
    "clf()"
   ]
  },
  {
   "cell_type": "markdown",
   "metadata": {},
   "source": [
    "## Estudio de Convergencia Dominio D fibrinogeno 1FZA - Graph 252x252 interactuando"
   ]
  },
  {
   "cell_type": "code",
   "execution_count": 13,
   "metadata": {},
   "outputs": [
    {
     "name": "stdout",
     "output_type": "stream",
     "text": [
      "r 2\n",
      "p248: 1.4341181241458885 p124: 1.7922000873922388\n",
      "Convergencia/E_solv_extrapolado: -1876.955578072983 KJ/mol\n"
     ]
    }
   ],
   "source": [
    "\n",
    "#Esolv = array([-2811.732558,-2170.646118,-1984.884366,-1916.141347])\n",
    "Esolv = array([-2811.741782,-2170.755902,-1985.683152,-1917.19272])\n",
    "N=array([154364,313016,631116,1275548])\n",
    "N1=array([1,2,4,8])\n",
    "\n",
    "\n",
    "r=2\n",
    "print('r',r)\n",
    "\n",
    "p=log((Esolv[1]-Esolv[2])/(Esolv[2]-Esolv[3]))/log(r)\n",
    "p1=log((Esolv[0]-Esolv[1])/(Esolv[1]-Esolv[2]))/log(r)\n",
    "print('p248:',p,'p124:',p1)\n",
    "fsolvextrapolado=Esolv[3] + ((Esolv[3]-Esolv[2])/((r**p) -1))\n",
    "print('Convergencia/E_solv_extrapolado:',fsolvextrapolado,'KJ/mol')"
   ]
  },
  {
   "cell_type": "code",
   "execution_count": 16,
   "metadata": {},
   "outputs": [
    {
     "data": {
      "text/plain": [
       "<Figure size 240x160 with 0 Axes>"
      ]
     },
     "metadata": {},
     "output_type": "display_data"
    }
   ],
   "source": [
    "font = {'family':'serif','size':7}\n",
    "figure(figsize=(3,2), dpi=80)\n",
    "rc('font',**font)\n",
    "\n",
    "semilogx(N, Esolv, c='k', marker='o', mfc='w', ms=3,ls='-',lw=0.5, label='1FZA - Graph 252x252')\n",
    "semilogx(N,fsolvextrapolado*ones(4), c='k', marker='', mfc='w', ms=1, ls='dotted',lw=0.2)\n",
    "ylabel('$E_{solv}$ [kcal/mol]', fontsize=10)\n",
    "xlabel('N mesh',fontsize=10)\n",
    "text(122000, fsolvextrapolado,'An. sol. = -1876.9556',fontsize=7,rotation=0)\n",
    "subplots_adjust(left=0.25, bottom=0.21, right=0.96, top=0.95)\n",
    "axis([120000,1500000,-4000, -1200])\n",
    "legend(loc='lower right')\n",
    "savefig('Convergencia/1fza-graph_Extrapolacion.pdf')\n",
    "clf()"
   ]
  },
  {
   "cell_type": "code",
   "execution_count": 17,
   "metadata": {},
   "outputs": [
    {
     "name": "stdout",
     "output_type": "stream",
     "text": [
      "[0.49803321 0.15653025 0.05792762 0.02143745]\n"
     ]
    },
    {
     "data": {
      "text/plain": [
       "<Figure size 240x160 with 0 Axes>"
      ]
     },
     "metadata": {},
     "output_type": "display_data"
    }
   ],
   "source": [
    "PyGerr = abs(Esolv-fsolvextrapolado)/abs(fsolvextrapolado)\n",
    "figure(figsize=(3,2), dpi=80)\n",
    "print(PyGerr)\n",
    "loglog(N1, PyGerr, c='k', marker='o', mfc='w', ms=3, ls='', lw=0.5, label='1FZA - Graph 252x252')\n",
    "loglog(N1, 1./(N1*4.95), c='k', marker='', mfc='w', ms=3, ls=':', lw=0.8, label=None)\n",
    "text(0.4e1, 0.7e-1,'1/N',fontsize=6,rotation=-15)\n",
    "ylabel('Error', fontsize=10)\n",
    "xlabel('N mesh',fontsize=10)\n",
    "subplots_adjust(left=0.25, bottom=0.21, right=0.96, top=0.95)\n",
    "axis([0.5,24,0.0001, 1])\n",
    "legend(loc='lower right')\n",
    "savefig('Convergencia/Error_1fza-graph.pdf')\n",
    "clf()"
   ]
  },
  {
   "cell_type": "code",
   "execution_count": 46,
   "metadata": {},
   "outputs": [
    {
     "name": "stdout",
     "output_type": "stream",
     "text": [
      "r 2\n",
      "p248: 1.8210298589546787\n",
      "E_solv_extrapolado: -0.020671473684210528 KJ/mol\n"
     ]
    }
   ],
   "source": [
    "## Graph 252x252\n",
    "\n",
    "Esolv2 = array([-0.022071,-0.021115,-0.020797,-0.020707])\n",
    "N2=array([462520,927184,1856144,3735544])\n",
    "N_densidad2=array([1,2,4,8])\n",
    "\n",
    "\n",
    "r2=2\n",
    "print('r',r2)\n",
    "\n",
    "p=log((Esolv2[1]-Esolv2[2])/(Esolv2[2]-Esolv2[3]))/log(r)\n",
    "print('p248:',p)\n",
    "fsolvextrapolado2=Esolv2[3] + ((Esolv2[3]-Esolv2[2])/((r2**p) -1))\n",
    "print('E_solv_extrapolado:',fsolvextrapolado2,'KJ/mol')"
   ]
  },
  {
   "cell_type": "code",
   "execution_count": 47,
   "metadata": {},
   "outputs": [
    {
     "data": {
      "text/plain": [
       "<Figure size 240x160 with 0 Axes>"
      ]
     },
     "metadata": {},
     "output_type": "display_data"
    }
   ],
   "source": [
    "font = {'family':'serif','size':7}\n",
    "figure(figsize=(3,2), dpi=80)\n",
    "rc('font',**font)\n",
    "\n",
    "semilogx(N2, Esolv2, c='k', marker='o', mfc='w', ms=3,ls='-',lw=0.5, label='Graph 252x252')\n",
    "semilogx(N2,fsolvextrapolado2*ones(4), c='k', marker='', mfc='w', ms=1, ls='dotted',lw=0.2)\n",
    "ylabel('$E_{solv}$ [kcal/mol]', fontsize=10)\n",
    "xlabel('N mesh',fontsize=10)\n",
    "text(110000, -0.02067,'An. sol. = -0.02067',fontsize=7,rotation=0)\n",
    "subplots_adjust(left=0.25, bottom=0.21, right=0.96, top=0.95)\n",
    "axis([100000,1100000,-0.028, -0.015])\n",
    "legend(loc='lower right')\n",
    "savefig('Convergencia/graph_252x252_Extrapolacion.pdf')\n",
    "clf()"
   ]
  },
  {
   "cell_type": "code",
   "execution_count": 48,
   "metadata": {},
   "outputs": [
    {
     "name": "stdout",
     "output_type": "stream",
     "text": [
      "[0.06770327 0.02145596 0.00607244 0.00171862]\n"
     ]
    },
    {
     "data": {
      "text/plain": [
       "<Figure size 240x160 with 0 Axes>"
      ]
     },
     "metadata": {},
     "output_type": "display_data"
    }
   ],
   "source": [
    "PyGerr2 = abs(Esolv2-fsolvextrapolado2)/abs(fsolvextrapolado2)\n",
    "figure(figsize=(3,2), dpi=80)\n",
    "print(PyGerr2)\n",
    "loglog(N_densidad2, PyGerr2, c='k', marker='o', mfc='w', ms=3, ls='', lw=0.5, label='Graph 252x252')\n",
    "loglog(N_densidad2, 1./(N_densidad2*33.95), c='k', marker='', mfc='w', ms=3, ls=':', lw=0.8, label=None)\n",
    "text(0.4e1, 0.1e-1,'1/N',fontsize=6,rotation=-15)\n",
    "ylabel('Error', fontsize=10)\n",
    "xlabel('N mesh',fontsize=10)\n",
    "subplots_adjust(left=0.25, bottom=0.21, right=0.96, top=0.95)\n",
    "axis([0.5,24,0.0001, 1])\n",
    "legend(loc='lower right')\n",
    "savefig('Convergencia/Error_graph_252x252.pdf')\n",
    "clf()"
   ]
  },
  {
   "cell_type": "code",
   "execution_count": null,
   "metadata": {},
   "outputs": [],
   "source": []
  }
 ],
 "metadata": {
  "kernelspec": {
   "display_name": "Python 3",
   "language": "python",
   "name": "python3"
  },
  "language_info": {
   "codemirror_mode": {
    "name": "ipython",
    "version": 3
   },
   "file_extension": ".py",
   "mimetype": "text/x-python",
   "name": "python",
   "nbconvert_exporter": "python",
   "pygments_lexer": "ipython3",
   "version": "3.6.5"
  }
 },
 "nbformat": 4,
 "nbformat_minor": 2
}

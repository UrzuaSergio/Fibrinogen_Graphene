{
 "cells": [
  {
   "cell_type": "markdown",
   "metadata": {},
   "source": [
    "# Codigo Pre-Procesamiento Superficie 2D #"
   ]
  },
  {
   "cell_type": "markdown",
   "metadata": {},
   "source": [
    "### I. Crear PQR-File de Superficie Bidimensional: Grafeno ###"
   ]
  },
  {
   "cell_type": "markdown",
   "metadata": {},
   "source": [
    "> **Input**: Archivo `config_2.txt` \n",
    ">\n",
    "> Contiene Posiciones y Cargas de Atomos de Carbono y su respectivo Drude. \n",
    ">\n",
    "> Información clasificada según valor en tercera columna.\n",
    ">\n",
    "> Atomos de Carbono:1 - Particulas de Drude:2\n",
    "\n",
    "A partir de la información de este archivo, es posible elaborar un archivo pqr, que es de utilizadad para:\n",
    "1. Crear el archivo _xyzr_ que utilizan los Malladores **MSMS** o **NanoShaper**; \n",
    "2. Calculo de potencial electrostatico y componente polar de energia libre utilizando **PyGBe**  \n"
   ]
  },
  {
   "cell_type": "markdown",
   "metadata": {},
   "source": [
    "<h4> Recuperación de datos de posiciones y cargas"
   ]
  },
  {
   "cell_type": "code",
   "execution_count": 1,
   "metadata": {},
   "outputs": [],
   "source": [
    "import numpy"
   ]
  },
  {
   "cell_type": "code",
   "execution_count": 2,
   "metadata": {},
   "outputs": [],
   "source": [
    "configuracion_1=open('config_2.txt','r')\n",
    "aux_atom=open('aux_atom.txt','w')\n",
    "aux_drude=open('aux_drude.txt','w')\n",
    "for line in configuracion_1:\n",
    "    line_1=line.split()\n",
    "    #print(line_1)\n",
    "    if line_1[2]=='1': #atomo\n",
    "        atomo='{0} {1} {2}\\n'.format(line_1[3],line_1[4],line_1[5])\n",
    "        aux_atom.write(atomo)\n",
    "    if line_1[2]=='2': #drude\n",
    "        drude='{0} {1} {2}\\n'.format(line_1[3],line_1[4],line_1[5])\n",
    "        aux_drude.write(drude)\n",
    "aux_atom.close()\n",
    "aux_drude.close()\n",
    "configuracion_1.close()     "
   ]
  },
  {
   "cell_type": "code",
   "execution_count": 3,
   "metadata": {},
   "outputs": [],
   "source": [
    "aux_read_atomo=open('aux_atom.txt','r')\n",
    "aux_read_drude=open('aux_drude.txt','r')\n",
    "\n",
    "Atom_Espacio=numpy.loadtxt(aux_read_atomo)\n",
    "Drude_Espacio=numpy.loadtxt(aux_read_drude)"
   ]
  },
  {
   "cell_type": "code",
   "execution_count": null,
   "metadata": {},
   "outputs": [],
   "source": []
  },
  {
   "cell_type": "markdown",
   "metadata": {},
   "source": [
    "<h4> Aplicación Metodologia para Elaboración de PQR"
   ]
  },
  {
   "cell_type": "markdown",
   "metadata": {},
   "source": [
    "El PQR generado representara una distribución de cargas puntuales que dan lugar a una superficie bidimensional de grafeno. Esta distribución esta conformada por una serie de atomos de carbono, donde a cada uno le corresponde una particula de baja masa denominada drude. Los atomos de carbono y particulas de drude tienen el mismo valor de carga, pero de signos opuestos. La posición de los atomos de carbono junto con su respectivo radio de van der waals (RdVW) permitira parametrizar esta elemento en una membrana, lamina, o superficie bidimensional mediante una malla.\n",
    "Con tal de asegurar que la distribución de cargas se encuentre en el interior de la superficie mallada, se utilizara un punto intermedio de caracter ficticio entre los atomos y drude. Para efectos de elabroacion de la malla, este punto contendra el radio del carbono.\n",
    "\n",
    "> * Carbono:\n",
    "        * q= -0.26 e\n",
    "        * RdVW= 0 Angs.\n",
    ">\n",
    "\n",
    "> * Drude:\n",
    "        * q= 0.26 e\n",
    "        * RdVW= 0 Angs.\n",
    ">\n",
    "\n",
    "> * Punto entre Atomo Carbono-Drude:\n",
    "        * q= 0 e\n",
    "        * RdVW= 1.7 Angs."
   ]
  },
  {
   "cell_type": "markdown",
   "metadata": {},
   "source": [
    "![metodo](Metodo_mesh_grafeno.png \"An exemplary image\")"
   ]
  },
  {
   "cell_type": "code",
   "execution_count": 4,
   "metadata": {},
   "outputs": [
    {
     "name": "stdout",
     "output_type": "stream",
     "text": [
      "Atom: [[488.952  485.739   47.1567]\n",
      " [ 15.0702 485.759   47.1678]\n",
      " [ 17.7486 485.76    47.309 ]\n",
      " ...\n",
      " [484.229  484.566   47.0408]\n",
      " [486.912  484.574   47.1978]\n",
      " [488.261  484.564   47.2104]]\n",
      "Drude: [[488.953  485.739   47.1563]\n",
      " [ 15.0717 485.761   47.1673]\n",
      " [ 17.7486 485.758   47.3086]\n",
      " ...\n",
      " [484.23   484.565   47.0403]\n",
      " [486.911  484.576   47.1974]\n",
      " [488.259  484.564   47.2113]]\n",
      "centro: [[488.9525  485.739    47.1565 ]\n",
      " [ 15.07095 485.76     47.16755]\n",
      " [ 17.7486  485.759    47.3088 ]\n",
      " ...\n",
      " [484.2295  484.5655   47.04055]\n",
      " [486.9115  484.575    47.1976 ]\n",
      " [488.26    484.564    47.21085]]\n"
     ]
    }
   ],
   "source": [
    "print('Atom:',Atom_Espacio)\n",
    "print('Drude:',Drude_Espacio)\n",
    "Centro_Espacio=(Drude_Espacio + Atom_Espacio)/2\n",
    "print('centro:',Centro_Espacio)\n",
    "\n",
    "#print('numero de atomos',len(Atom_Espacio[:,0]))\n",
    "#print('numero de drude',len(Drude_Espacio[:,0]))\n",
    "#print('numero de puntos aux',len(Centro_Espacio[:,0]))"
   ]
  },
  {
   "cell_type": "code",
   "execution_count": 5,
   "metadata": {},
   "outputs": [
    {
     "name": "stdout",
     "output_type": "stream",
     "text": [
      "d:distancia entre drude y atomo de C: [0.00053852 0.00127475 0.0010198  ... 0.00075    0.00113578 0.00109659]\n",
      "d1:distancia entre centro y drude: [0.00053852 0.00127475 0.0010198  ... 0.00075    0.00113578 0.00109659]\n",
      "d2:distancia entre centro y atomo de C: [0.00053852 0.00127475 0.0010198  ... 0.00075    0.00113578 0.00109659]\n"
     ]
    }
   ],
   "source": [
    "#verificación que atomos de C y drude se encuentren dentro del Radio de Van der Waals.\n",
    "#d1:distancia entre centro y drude\n",
    "#d2:distancia entre centro y atomo de C\n",
    "\n",
    "\n",
    "d=((((Drude_Espacio[:,0]-Atom_Espacio[:,0]))**2+((Drude_Espacio[:,1]-Atom_Espacio[:,1]))**2+((Drude_Espacio[:,2]-Atom_Espacio[:,2]))**2)**(0.5))\n",
    "d2=((((Centro_Espacio[:,0]-Atom_Espacio[:,0]))**2+((Centro_Espacio[:,1]-Atom_Espacio[:,1]))**2+((Centro_Espacio[:,2]-Atom_Espacio[:,2]))**2)**(0.5))\n",
    "d1=((((Centro_Espacio[:,0]-Drude_Espacio[:,0]))**2+((Centro_Espacio[:,1]-Drude_Espacio[:,1]))**2+((Centro_Espacio[:,2]-Drude_Espacio[:,2]))**2)**(0.5))\n",
    "\n",
    "\n",
    "print('d:distancia entre drude y atomo de C:',d)\n",
    "print('d1:distancia entre centro y drude:',d1)\n",
    "print('d2:distancia entre centro y atomo de C:',d2)\n",
    "\n",
    "#otra forma:\n",
    "#d1= abs(Drude_Espacio - Centro_Espacio)\n",
    "#d2= abs(Centro_Espacio - Atom_Espacio)\n",
    "#y verificar en cada coordenada (x,y,z)"
   ]
  },
  {
   "cell_type": "code",
   "execution_count": 6,
   "metadata": {},
   "outputs": [],
   "source": [
    "#d2 #x listo, y listo, z listo\n",
    "\n",
    "for i in range(95816):\n",
    "    if d2[i]>1.7:\n",
    "        print(i)\n",
    "        print(d2[i,0])\n",
    "        print('atomo_queda_fuera_de_RdVW')"
   ]
  },
  {
   "cell_type": "code",
   "execution_count": 7,
   "metadata": {},
   "outputs": [],
   "source": [
    "#d1 #x listo, y listo, z listo\n",
    "\n",
    "for i in range(95816):\n",
    "    if d1[i]>1.7:\n",
    "        print(i)\n",
    "        print(d1[i,0])\n",
    "        print('drude_queda_fuera_de_RdVW')"
   ]
  },
  {
   "cell_type": "markdown",
   "metadata": {},
   "source": [
    "**Luego de la Verificación se procede a crear archivos pqr y xyzr para generar malla.**"
   ]
  },
  {
   "cell_type": "code",
   "execution_count": 8,
   "metadata": {},
   "outputs": [],
   "source": [
    "#debido a que la membrana de grafeno se encuentra en cualquier parte del espacio, es necesario\n",
    "#trasladar cada uno de los atomos a una distancia que permita una manipulación mas facil.\n",
    "#es por esto que se centra aproximadamente en x=0, z=0, y  la \"cara superior\" en y=0."
   ]
  },
  {
   "cell_type": "code",
   "execution_count": 9,
   "metadata": {},
   "outputs": [
    {
     "name": "stdout",
     "output_type": "stream",
     "text": [
      "centro_x_atom: 251.34150000000002 centro_y_atom: 47.7052 centro_z_atom: 249.68745\n",
      "centro_x_drude: 251.34095000000002 centro_y_drude: 47.7053 centro_z_drude: 249.68705\n",
      "centro_x_centro: 251.341225 centro_y_centro: 47.70525 centro_z_centro: 249.68725\n"
     ]
    }
   ],
   "source": [
    "#traslacion pqr\n",
    "#atomo\n",
    "Centro_x_atom=(max(Atom_Espacio[:,0]) + min(Atom_Espacio[:,0]))/2\n",
    "Centro_y_atom=max(Atom_Espacio[:,2])\n",
    "Centro_z_atom=(max(Atom_Espacio[:,1]) + min(Atom_Espacio[:,1]))/2\n",
    "print('centro_x_atom:',Centro_x_atom,'centro_y_atom:',Centro_y_atom,'centro_z_atom:',Centro_z_atom)\n",
    "#Drude\n",
    "Centro_x_drude=(max(Drude_Espacio[:,0]) + min(Drude_Espacio[:,0]))/2\n",
    "Centro_y_drude=max(Drude_Espacio[:,2])\n",
    "Centro_z_drude=(max(Drude_Espacio[:,1]) + min(Drude_Espacio[:,1]))/2\n",
    "print('centro_x_drude:',Centro_x_drude,'centro_y_drude:',Centro_y_drude,'centro_z_drude:',Centro_z_drude)\n",
    "#Centro_atom_drude\n",
    "Centro_x_centro=(max(Centro_Espacio[:,0]) + min(Centro_Espacio[:,0]))/2\n",
    "Centro_y_centro=max(Centro_Espacio[:,2]) \n",
    "Centro_z_centro=(max(Centro_Espacio[:,1]) + min(Centro_Espacio[:,1]))/2\n",
    "print('centro_x_centro:',Centro_x_centro,'centro_y_centro:',Centro_y_centro,'centro_z_centro:',Centro_z_centro)"
   ]
  },
  {
   "cell_type": "markdown",
   "metadata": {},
   "source": [
    "#### PQR para Superficie de dimensiones 478x475 Angs. ####"
   ]
  },
  {
   "cell_type": "code",
   "execution_count": 10,
   "metadata": {},
   "outputs": [],
   "source": [
    "#generar archivo.pqr de membrana de grafeno: configuracion 2 trasladada a la posicion requerida.\n",
    "#si se utiliza otra configuracion de la membrana de grafeno, cambiar valores de coordenadas de ATOM en base a\n",
    "#los obtenidos en la casilla anterior.\n",
    "\n",
    "pqr_grafeno_traslacion=open('grafeno_config_2_traslacion.pqr','w')\n",
    "configuracion_1=open('config_2.txt','r')\n",
    "\n",
    "q_atomo='-0.26'\n",
    "q_drude='0.26'\n",
    "q_centro='0'\n",
    "r_atomo='0'\n",
    "r_drude='0'\n",
    "r_centro='1.7'\n",
    "\n",
    "for line in configuracion_1:\n",
    "    line_1=line.split()\n",
    "    if line_1[2]=='1':\n",
    "        pqr_line='ATOM   '+str(line_1[0])+'  A  A  111  '+str(round((float(line_1[3]) - Centro_x_atom),4))+'  '+str(round((float(line_1[5]) - Centro_y_atom - float(r_centro)),4))+'  '+str(round((float(line_1[4]) - Centro_z_atom),4))+'  '+q_atomo+'  '+r_atomo+'\\n'\n",
    "        pqr_grafeno_traslacion.write(pqr_line)\n",
    "    if line_1[2]=='2':\n",
    "        pqr_line='ATOM   '+str(line_1[0])+'  A  A  112  '+str(round((float(line_1[3]) - Centro_x_drude),4))+'  '+str(round((float(line_1[5]) - Centro_y_drude - float(r_centro)),4))+'  '+str(round((float(line_1[4]) - Centro_z_drude),4))+'  '+q_drude+'  '+r_drude+'\\n'\n",
    "        pqr_grafeno_traslacion.write(pqr_line)\n",
    "\n",
    "for i in range(95816):\n",
    "    pqr_line='ATOM   '+str(95816*2+i+1)+'  A  A  113  '+str(round((Centro_Espacio[i,0] - Centro_x_centro),4))+'  '+str(round((Centro_Espacio[i,2] - Centro_y_centro - float(r_centro)),4))+'  '+str(round((Centro_Espacio[i,1] - Centro_z_centro),4))+'  '+q_centro+'  '+r_centro+'\\n'\n",
    "    pqr_grafeno_traslacion.write(pqr_line)\n",
    "    \n",
    "pqr_grafeno_traslacion.close()"
   ]
  },
  {
   "cell_type": "markdown",
   "metadata": {},
   "source": [
    "#### PQR para Superficie de dimensiones 252x252 Angs. ####"
   ]
  },
  {
   "cell_type": "code",
   "execution_count": 11,
   "metadata": {},
   "outputs": [
    {
     "name": "stdout",
     "output_type": "stream",
     "text": [
      "26755\n",
      "53510\n",
      "80265\n"
     ]
    }
   ],
   "source": [
    "pqr_grafeno_traslacion_2=open('grafeno_config_2_traslacion_acortada.pqr','w')\n",
    "\n",
    "contador1=0\n",
    "contador2=0\n",
    "contador3=0\n",
    "\n",
    "for i in range(len(Centro_Espacio[:,0])):\n",
    "    if (Centro_Espacio[i,0] - Centro_x_centro)>=-125 and (Centro_Espacio[i,0] - Centro_x_centro)<=125:\n",
    "         if (Centro_Espacio[i,1] -Centro_z_centro)>=-125 and (Centro_Espacio[i,1] - Centro_z_centro)<=125:\n",
    "            contador1 +=1\n",
    "            pqr_line='ATOM   '+str(contador1)+'  A  A  111  '+str(round((Atom_Espacio[i,0] - Centro_x_atom),4))+'  '+str(round((Atom_Espacio[i,2] +2.20 - Centro_y_atom - float(r_centro)),4))+'  '+str(round((Atom_Espacio[i,1] - Centro_z_atom),4))+'  '+q_atomo+'  '+r_atomo+'\\n'\n",
    "            pqr_grafeno_traslacion_2.write(pqr_line)\n",
    "\n",
    "print(contador1)\n",
    "            \n",
    "for i in range(len(Centro_Espacio[:,0])):\n",
    "    if (Centro_Espacio[i,0] - Centro_x_centro)>=-125 and (Centro_Espacio[i,0] - Centro_x_centro)<=125:\n",
    "         if (Centro_Espacio[i,1] - Centro_z_centro)>=-125 and (Centro_Espacio[i,1] - Centro_z_centro)<=125:\n",
    "            contador2 +=1\n",
    "            pqr_line='ATOM   '+str(contador1+contador2)+'  A  A  112  '+str(round((Drude_Espacio[i,0] - Centro_x_drude),4))+'  '+str(round((Drude_Espacio[i,2] +2.20 - Centro_y_drude - float(r_centro)),4))+'  '+str(round((Drude_Espacio[i,1] - Centro_z_drude),4))+'  '+q_drude+'  '+r_drude+'\\n'\n",
    "            pqr_grafeno_traslacion_2.write(pqr_line)\n",
    "\n",
    "print(contador2+contador1)\n",
    "\n",
    "for i in range(len(Centro_Espacio[:,0])):\n",
    "    if (Centro_Espacio[i,0] - Centro_x_centro)>=-125 and (Centro_Espacio[i,0] - Centro_x_centro)<=125:\n",
    "         if (Centro_Espacio[i,1] - Centro_z_centro)>=-125 and (Centro_Espacio[i,1] - Centro_z_centro)<=125:\n",
    "            contador3 +=1\n",
    "            pqr_line='ATOM   '+str(contador1 + contador2 + contador3)+'  A  A  113  '+str(round((Centro_Espacio[i,0] - Centro_x_centro),4))+'  '+str(round((Centro_Espacio[i,2] +2.20  - Centro_y_centro - float(r_centro)),4))+'  '+str(round((Centro_Espacio[i,1] - Centro_z_centro),4))+'  '+q_centro+'  '+r_centro+'\\n'\n",
    "            pqr_grafeno_traslacion_2.write(pqr_line)\n",
    "            \n",
    "print(contador2+contador1+contador3)\n",
    "\n",
    "pqr_grafeno_traslacion_2.close()"
   ]
  },
  {
   "cell_type": "markdown",
   "metadata": {},
   "source": [
    "### II. Creación de XYZR-File para Configuración de Superficie Utilizada ###\n",
    "\n",
    "#### XYZR para Superficie de Dimensiones 478x475 Angs.\n",
    "**Archivo requerido por Mallador, para realizar Malla de Superficie Bidimensional**"
   ]
  },
  {
   "cell_type": "code",
   "execution_count": 12,
   "metadata": {},
   "outputs": [],
   "source": [
    "#generar archivo.xyzr a partir de pqr de grafeno trasladada\n",
    "\n",
    "pqr_grafeno_read_trasladada=open('grafeno_config_2_traslacion.pqr','r')\n",
    "xyzr_grafeno_trasladada=open('grafeno_config_2_traslacion.xyzr','w')\n",
    "\n",
    "for line in pqr_grafeno_read_trasladada:\n",
    "    line_1=line.split()\n",
    "    if line_1[4]=='113':\n",
    "        xyzr_line=str(line_1[5])+' '+str(line_1[6])+' '+str(line_1[7])+' '+str(line_1[9])+'\\n'\n",
    "        xyzr_grafeno_trasladada.write(xyzr_line)\n",
    "xyzr_grafeno_trasladada.close()"
   ]
  },
  {
   "cell_type": "markdown",
   "metadata": {},
   "source": [
    "#### XYZR para Superficie de Dimensiones 252x252 Angs."
   ]
  },
  {
   "cell_type": "code",
   "execution_count": 13,
   "metadata": {},
   "outputs": [],
   "source": [
    "#generar archivo.xyzr a partir de pqr de grafeno acortada trasladada\n",
    "pqr_grafeno_read_trasladada_2=open('grafeno_config_2_traslacion_acortada.pqr','r')\n",
    "xyzr_grafeno_trasladada_2=open('grafeno_config_2_traslacion_acortada.xyzr','w')\n",
    "\n",
    "for line in pqr_grafeno_read_trasladada_2:\n",
    "    line_1=line.split()\n",
    "#    if line_1[4]=='113':\n",
    "    xyzr_line=str(line_1[5])+' '+str(line_1[6])+' '+str(line_1[7])+' '+str(line_1[9])+'\\n'\n",
    "    xyzr_grafeno_trasladada_2.write(xyzr_line)\n",
    "xyzr_grafeno_trasladada_2.close()"
   ]
  },
  {
   "cell_type": "markdown",
   "metadata": {},
   "source": [
    "#### **Vizualización de PQR para Configuración de Superficie Utilizada** ###"
   ]
  },
  {
   "cell_type": "code",
   "execution_count": 14,
   "metadata": {},
   "outputs": [],
   "source": [
    "#generar archivo.pqr de membrana de grafeno para vizualizacion: configuracion 2 trasladada\n",
    "#La diferencia de este pqr con el anterior es que solo posee los atomos que tienen radio distinto de 0.\n",
    "\n",
    "pqr_grafeno_vizualizacion_tras=open('grafeno_config_2_vizualizacion_traslacion.pqr','w')\n",
    "configuracion_1=open('config_2.txt','r')\n",
    "\n",
    "q_atomo='-0.26'\n",
    "q_drude='0.26'\n",
    "q_centro='0'\n",
    "r_atomo='0'\n",
    "r_drude='0'\n",
    "r_centro='1.7'\n",
    "\n",
    "for i in range(95816):\n",
    "    pqr_line= 'ATOM   '+str(i)+'  C  ALA  113  '+str(round((Centro_Espacio[i,0] - Centro_x_centro),4))+'  '+str(round((Centro_Espacio[i,2] - Centro_y_centro - float(r_centro)),4))+'  '+str(round((Centro_Espacio[i,1] - Centro_z_centro),4))+'  '+q_centro+'  '+r_centro+'\\n'\n",
    "    pqr_grafeno_vizualizacion_tras.write(pqr_line)\n",
    "    \n",
    "pqr_grafeno_vizualizacion_tras.close()"
   ]
  },
  {
   "cell_type": "markdown",
   "metadata": {},
   "source": [
    "![Mesh](pqr.png \"An exemplary image\")"
   ]
  },
  {
   "cell_type": "code",
   "execution_count": 15,
   "metadata": {},
   "outputs": [],
   "source": [
    "#Eliminación de Archivos Auxiliares o No utiles.\n",
    "from os import remove\n",
    "remove(\"aux_atom.txt\")\n",
    "remove(\"aux_drude.txt\")"
   ]
  },
  {
   "cell_type": "markdown",
   "metadata": {},
   "source": [
    "### III. Codigo para Elaboración de Malla de Superficie Bidimensional usando NanoShaper###"
   ]
  },
  {
   "cell_type": "code",
   "execution_count": 16,
   "metadata": {},
   "outputs": [],
   "source": [
    "import numpy\n",
    "import sys\n",
    "import os\n",
    "import glob"
   ]
  },
  {
   "cell_type": "code",
   "execution_count": 17,
   "metadata": {},
   "outputs": [],
   "source": [
    "def Funcion_Meshing(File_config,densidad,xyzr):\n",
    "    os.system('touch '+File_config)\n",
    "    Archivo=open(File_config,'w')\n",
    "    Archivo.write('Grid_scale ='+str(float(densidad))+'\\n')\n",
    "    Archivo.write('Grid_perfil = 90.0'+'\\n')\n",
    "    Archivo.write('XYZR_FileName = '+str(xyzr)+'\\n')\n",
    "    Archivo.write('Build_epsilon_maps = false \\n')\n",
    "    Archivo.write('Build_status_map = false \\n')\n",
    "    Archivo.write('Save_Mesh_MSMS_Format = true \\n')\n",
    "    Archivo.write('Compute_Vertex_Normals = true \\n')\n",
    "    Archivo.write('Surface = ses \\n')  \n",
    "    Archivo.write('Max_ses_patches_per_auxiliary_grid_2d_cell = 1500 \\n') \n",
    "    Archivo.write('Smooth_Mesh = true \\n')\n",
    "    Archivo.write('Skin_Surface_Parameter = 0.45 \\n')\n",
    "    Archivo.write('Cavity_Detection_Filling = false \\n')\n",
    "    Archivo.write('Conditional_Volume_Filling_Value = 11.4 \\n')\n",
    "    Archivo.write('Keep_Water_Shaped_Cavities = false \\n')\n",
    "    Archivo.write('Probe_Radius = 1.4 \\n')\n",
    "    Archivo.write('Accurate_Triangulation = true \\n')\n",
    "    Archivo.write('Triangulation = true \\n')\n",
    "    Archivo.write('Check_duplicated_vertices = true \\n')\n",
    "    Archivo.write('Save_Status_map = false \\n')\n",
    "    Archivo.write('Save_PovRay = false \\n')"
   ]
  },
  {
   "cell_type": "markdown",
   "metadata": {},
   "source": [
    "#### Mesh para Superficie de dimensiones 478x475 Angs. ####"
   ]
  },
  {
   "cell_type": "code",
   "execution_count": 18,
   "metadata": {},
   "outputs": [
    {
     "name": "stdout",
     "output_type": "stream",
     "text": [
      "Se ha Completado Mallado. Densidad 1 elemento/area\n",
      "Se ha Completado Mallado. Densidad 2 elementos/area\n",
      "Se ha Completado Mallado. Densidad 4 elementos/area\n",
      "Se ha Completado Mallado. Densidad 8 elementos/area\n",
      "Eliminados Archivos No requeridos\n"
     ]
    }
   ],
   "source": [
    "os.system('mkdir Meshing/')\n",
    "\n",
    "Funcion_Meshing('Meshing/Config_Graph_d01',0.644,'grafeno_config_2_traslacion.xyzr')\n",
    "Funcion_Meshing('Meshing/Config_Graph_d02',0.896,'grafeno_config_2_traslacion.xyzr')\n",
    "Funcion_Meshing('Meshing/Config_Graph_d04',1.251,'grafeno_config_2_traslacion.xyzr')\n",
    "Funcion_Meshing('Meshing/Config_Graph_d08',1.761,'grafeno_config_2_traslacion.xyzr')\n",
    "\n",
    "os.system('./NanoShaper Meshing/Config_Graph_d01')\n",
    "os.system('cp triangulatedSurf.face Meshing/Graph_Config2_NanoShaper_d01.face')\n",
    "os.system('cp triangulatedSurf.vert Meshing/Graph_Config2_NanoShaper_d01.vert')\n",
    "os.system('rm -r  triangulatedSurf.face')\n",
    "os.system('rm -r  triangulatedSurf.vert')\n",
    "print('Se ha Completado Mallado. Densidad 1 elemento/area')\n",
    "\n",
    "os.system('./NanoShaper Meshing/Config_Graph_d02')\n",
    "os.system('cp triangulatedSurf.face Meshing/Graph_Config2_NanoShaper_d02.face')\n",
    "os.system('cp triangulatedSurf.vert Meshing/Graph_Config2_NanoShaper_d02.vert')\n",
    "os.system('rm -r  triangulatedSurf.face')\n",
    "os.system('rm -r  triangulatedSurf.vert')\n",
    "print('Se ha Completado Mallado. Densidad 2 elementos/area')\n",
    "\n",
    "os.system('./NanoShaper Meshing/Config_Graph_d04')\n",
    "os.system('cp triangulatedSurf.face Meshing/Graph_Config2_NanoShaper_d04.face')\n",
    "os.system('cp triangulatedSurf.vert Meshing/Graph_Config2_NanoShaper_d04.vert')\n",
    "os.system('rm -r  triangulatedSurf.face')\n",
    "os.system('rm -r  triangulatedSurf.vert')\n",
    "print('Se ha Completado Mallado. Densidad 4 elementos/area')\n",
    "\n",
    "os.system('./NanoShaper Meshing/Config_Graph_d08')\n",
    "os.system('cp triangulatedSurf.face Meshing/Graph_Config2_NanoShaper_d08.face')\n",
    "os.system('cp triangulatedSurf.vert Meshing/Graph_Config2_NanoShaper_d08.vert')\n",
    "os.system('rm -r  triangulatedSurf.face')\n",
    "os.system('rm -r  triangulatedSurf.vert')\n",
    "print('Se ha Completado Mallado. Densidad 8 elementos/area')\n",
    "\n",
    "\n",
    "os.system('rm -r exposed.xyz')\n",
    "os.system('rm -r exposedIndices.txt')\n",
    "os.system('rm -r stderror.txt')\n",
    "os.system('rm -r triangleAreas.txt')\n",
    "os.system('rm -r Meshing/Config_Graph_d01')\n",
    "os.system('rm -r Meshing/Config_Graph_d02')\n",
    "os.system('rm -r Meshing/Config_Graph_d04')\n",
    "os.system('rm -r Meshing/Config_Graph_d08')\n",
    "print('Eliminados Archivos No requeridos')\n",
    "\n",
    "#En cada una de los archivos de malla, antes de ser utilizados en PyGBe se requiere dejar como comentario el numero\n",
    "#de elementos y de vertices que aparece en estos archivos. Basta con agregar # antes del numero respectivo."
   ]
  },
  {
   "cell_type": "markdown",
   "metadata": {},
   "source": [
    "#### Mesh para Superficie de dimensiones 252x252 Angs. ####"
   ]
  },
  {
   "cell_type": "code",
   "execution_count": 19,
   "metadata": {},
   "outputs": [
    {
     "name": "stdout",
     "output_type": "stream",
     "text": [
      "Se ha Completado Mallado. Densidad 1 elemento/area\n",
      "Se ha Completado Mallado. Densidad 2 elementos/area\n",
      "Se ha Completado Mallado. Densidad 4 elementos/area\n",
      "Se ha Completado Mallado. Densidad 8 elementos/area\n",
      "Eliminados Archivos No requeridos\n"
     ]
    }
   ],
   "source": [
    "Funcion_Meshing('Meshing/Config_Graph_acortada_d01',0.644,'grafeno_config_2_traslacion_acortada.xyzr')\n",
    "Funcion_Meshing('Meshing/Config_Graph_acortada_d02',0.896,'grafeno_config_2_traslacion_acortada.xyzr')\n",
    "Funcion_Meshing('Meshing/Config_Graph_acortada_d04',1.251,'grafeno_config_2_traslacion_acortada.xyzr')\n",
    "Funcion_Meshing('Meshing/Config_Graph_acortada_d08',1.759,'grafeno_config_2_traslacion_acortada.xyzr')\n",
    "\n",
    "os.system('./NanoShaper Meshing/Config_Graph_acortada_d01')\n",
    "os.system('cp triangulatedSurf.face Meshing/Graph_Acortada_Config2_NanoShaper_d01.face')\n",
    "os.system('cp triangulatedSurf.vert Meshing/Graph_Acortada_Config2_NanoShaper_d01.vert')\n",
    "os.system('rm -r  triangulatedSurf.face')\n",
    "os.system('rm -r  triangulatedSurf.vert')\n",
    "print('Se ha Completado Mallado. Densidad 1 elemento/area')\n",
    "\n",
    "os.system('./NanoShaper Meshing/Config_Graph_acortada_d02')\n",
    "os.system('cp triangulatedSurf.face Meshing/Graph_Acortada_Config2_NanoShaper_d02.face')\n",
    "os.system('cp triangulatedSurf.vert Meshing/Graph_Acortada_Config2_NanoShaper_d02.vert')\n",
    "os.system('rm -r  triangulatedSurf.face')\n",
    "os.system('rm -r  triangulatedSurf.vert')\n",
    "print('Se ha Completado Mallado. Densidad 2 elementos/area')\n",
    "\n",
    "os.system('./NanoShaper Meshing/Config_Graph_acortada_d04')\n",
    "os.system('cp triangulatedSurf.face Meshing/Graph_Acortada_Config2_NanoShaper_d04.face')\n",
    "os.system('cp triangulatedSurf.vert Meshing/Graph_Acortada_Config2_NanoShaper_d04.vert')\n",
    "os.system('rm -r  triangulatedSurf.face')\n",
    "os.system('rm -r  triangulatedSurf.vert')\n",
    "print('Se ha Completado Mallado. Densidad 4 elementos/area')\n",
    "\n",
    "os.system('./NanoShaper Meshing/Config_Graph_acortada_d08')\n",
    "os.system('cp triangulatedSurf.face Meshing/Graph_Acortada_Config2_NanoShaper_d08.face')\n",
    "os.system('cp triangulatedSurf.vert Meshing/Graph_Acortada_Config2_NanoShaper_d08.vert')\n",
    "os.system('rm -r  triangulatedSurf.face')\n",
    "os.system('rm -r  triangulatedSurf.vert')\n",
    "print('Se ha Completado Mallado. Densidad 8 elementos/area')\n",
    "\n",
    "\n",
    "os.system('rm -r exposed.xyz')\n",
    "os.system('rm -r exposedIndices.txt')\n",
    "os.system('rm -r stderror.txt')\n",
    "os.system('rm -r triangleAreas.txt')\n",
    "os.system('rm -r Meshing/Config_Graph_acortada_d01')\n",
    "os.system('rm -r Meshing/Config_Graph_acortada_d02')\n",
    "os.system('rm -r Meshing/Config_Graph_acortada_d04')\n",
    "os.system('rm -r Meshing/Config_Graph_acortada_d08')\n",
    "\n",
    "print('Eliminados Archivos No requeridos')\n",
    "\n",
    "#En cada una de los archivos de malla, antes de ser utilizados en PyGBe se requiere dejar como comentario el numero\n",
    "#de elementos y de vertices que aparece en estos archivos. Basta con agregar # antes del numero respectivo."
   ]
  },
  {
   "cell_type": "code",
   "execution_count": null,
   "metadata": {},
   "outputs": [],
   "source": []
  },
  {
   "cell_type": "code",
   "execution_count": null,
   "metadata": {},
   "outputs": [],
   "source": []
  },
  {
   "cell_type": "code",
   "execution_count": null,
   "metadata": {},
   "outputs": [],
   "source": []
  },
  {
   "cell_type": "code",
   "execution_count": null,
   "metadata": {},
   "outputs": [],
   "source": []
  }
 ],
 "metadata": {
  "kernelspec": {
   "display_name": "Python 3",
   "language": "python",
   "name": "python3"
  },
  "language_info": {
   "codemirror_mode": {
    "name": "ipython",
    "version": 3
   },
   "file_extension": ".py",
   "mimetype": "text/x-python",
   "name": "python",
   "nbconvert_exporter": "python",
   "pygments_lexer": "ipython3",
   "version": "3.6.5"
  }
 },
 "nbformat": 4,
 "nbformat_minor": 2
}
